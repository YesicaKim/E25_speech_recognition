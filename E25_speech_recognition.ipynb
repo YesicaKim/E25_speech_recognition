{
 "cells": [
  {
   "cell_type": "markdown",
   "metadata": {},
   "source": [
    "# 사람이 말하는 단어를 인공지능 모델로 구분해보자\n",
    "\n",
    "# 평가 루브릭\n",
    "\n",
    "아래의 기준을 바탕으로 프로젝트를 평가합니다.\n",
    "\n",
    "## 평가문항\t상세기준\n",
    "1. 음성데이터를 2차원 Spectrogram 으로 변환하여 데이터셋을 구성하였다. : 스펙트로그램 시각화 및 train/test 데이터셋 구성이 정상진행되었다.\n",
    "2. 1,2차원 데이터를 처리하는 음성인식 모델이 정상 작동한다. : 스펙트로그램을 입력받은 모델이 학습과정에서 안정적으로 수렴하며, evaluation/test 단계를 무리없이 진행가능하다.\n",
    "3. 테스트셋 수행결과 음성인식 모델의 Accuracy가 일정 수준에 도달하였다. : evaluation 결과 75% 이상의 정확도를 달성하는 모델이 하나 이상 존재한다.\n",
    "\n",
    "\n",
    "## 음성과 오디오 데이터\n",
    "\n",
    "## 파동으로서의 소리\n",
    "\n",
    "- 소리는 진동으로 인한 공기의 압축을 이야기하며, 압축이 얼마나됬느냐는 파동(Wave)로 말할 수 있습니다. 소리에서 얻을 수 있는 물리량은 기본적으로 진폭(Amplitude)와 주파수(Frequency)그리고 위상(Phase)의 3요소로 나타낼 수 있다.\n",
    "\n",
    "- 물리적 음향에서는 intensity를 소리 진폭의 세기로 정의하고, Frequency는 소리 떨림의 빠르기 그리고 Tone-Color는 소리 파동의 모양으로 정의합니다. 심리적 음향에서는 Loudness는 소리의 크기를 말하고, Pitch는 음정, 소리의 높낮이, 진동수를 의미합니다. 마지막으로 Timbre는 음색 소리 감각등을 나타냅니다.\n",
    "\n",
    "- 위 그림을 살펴봅시다. 첫번째 줄이 보여주는 것은 주파수(frequency)에 따라 소리의 높이가 달라진다는 것입니다. 두번째 줄은 진폭(Amplitude)에 따라 소리의 세기(크기)가 달라진다는 것을 보여줍니다. 위 두 줄은 주파수 또는 진폭만 달라졌을 뿐, 그래프의 기본 모양은 동일한 것들이었습니다. 그러나 세번째 줄은 아예 그래프의 모양 자체가 다른 것입니다. 이 때는 음정, 음색 등 소리의 맵시가 달라지게 됩니다.\n",
    "\n",
    "## 주파수는 무엇일까요?\n",
    "\n",
    "- 주파수는 the number of compressed이고 단위는 Hz를 사용합니다. 1Hz는 1초에 한번 진동한다는 것을 의미합니다. \n",
    "- 주기(period)는 파동이 한 번 진동하는데 걸리는 시간, 또는 그 길이를 말하며, 일반적으로는 sin함수의 주기는 2π/ω입니다. 주파수는 1초동안의 진동 횟수입니다.\n",
    "- 소리의 높낮이는 음원의 주파수에 의해 결정됩니다. 주파수가 높으면 높은 소리가 나고, 낮으면 낮은 소리가 납니다.\n",
    "\n",
    "## 복합파(Complex Wave)란 무엇일까?\n",
    "\n",
    "- 우리가 사용하는 대부분의 소리들은 복합파입니다. 서로다른 주파수를 가진 수많은 소리가 뒤섞여 만들어지는 복합파는, 복수의 서로 다른 정현파(sine wave)들의 합으로 이루어진 파형입니다. 수식으로 표현하자면 아래와 같습니다. 이른바 오디오 데이터의 제너럴한 수식 표현이라고 할 수 있습니다.\n",
    "\n",
    "# 오디오 데이터의 디지털화\n",
    "\n",
    "- 위에서 언급한 오디오 데이터는 아날로그 데이터로서의 소리에 대한 설명이었습니다. 그러나 컴퓨터는 0과 1로만 이루어진 디지털 데이터만 취급 가능합니다. 우리가 흔히 볼 수 있는 소리들은 컴퓨터의 입력으로 들어가게 되면 어떤 과정을 거치게 될까요? 컴퓨터가 소리를 이해하는 과정을 살펴보겠습니다!\n",
    "\n",
    "- 연속적인 아날로그 신호 중 가장 단순한 형태인 사인 함수(sine function)를 수식으로 표현하면 아래와 같습니다.\n",
    "\n",
    "\n",
    "# 아날로그 신호의 표본화(Sampling)\n"
   ]
  },
  {
   "cell_type": "code",
   "execution_count": 2,
   "metadata": {},
   "outputs": [],
   "source": [
    "import numpy as np\n",
    "import matplotlib.pyplot as plt\n",
    "import warnings\n",
    "warnings.filterwarnings(\"ignore\")\n",
    "\n",
    "def single_tone(frequecy, sampling_rate=16000, duration=1):\n",
    "    t = np.linspace(0, duration, int(sampling_rate))\n",
    "    y = np.sin(2 * np.pi * frequecy * t)\n",
    "    return y\n",
    "\n",
    "y = single_tone(400)"
   ]
  },
  {
   "cell_type": "markdown",
   "metadata": {},
   "source": [
    "- 1 사이클 동안 나타나는 연속시간 연속크기 아날로그 신호인 간단한 사인함수를 그려보겠습니다."
   ]
  },
  {
   "cell_type": "code",
   "execution_count": 3,
   "metadata": {},
   "outputs": [
    {
     "data": {
      "image/png": "[encoded data removed]",
      "text/plain": [
       "<Figure size 432x288 with 1 Axes>"
      ]
     },
     "metadata": {
      "needs_background": "light"
     },
     "output_type": "display_data"
    }
   ],
   "source": [
    "plt.plot(y[:41])\n",
    "plt.show()"
   ]
  },
  {
   "cell_type": "markdown",
   "metadata": {},
   "source": [
    "- 시간축 방향에서 일정 간격으로 샘플을 추출하여 이산 신호(discrete signal)로 변환시키는 과정을 표본화(Sampling)라고 부릅니다. \n",
    "- 아래 그래프는 1 사이클 동안 나타나는 이산시간 연속크기 신호를 한번 출력해보도록 하겠습니다."
   ]
  },
  {
   "cell_type": "code",
   "execution_count": 4,
   "metadata": {},
   "outputs": [
    {
     "data": {
      "image/png": "[encoded data removed]",
      "text/plain": [
       "<Figure size 432x288 with 1 Axes>"
      ]
     },
     "metadata": {
      "needs_background": "light"
     },
     "output_type": "display_data"
    }
   ],
   "source": [
    "plt.stem(y[:41])\n",
    "plt.show()"
   ]
  },
  {
   "cell_type": "markdown",
   "metadata": {},
   "source": [
    "- 우리는 위에서 single_tone() 함수 구현시 sampling rate를 16000으로 지정하고, duration은 1초, 그리고 주파수는 400인 사인함수를 정의했습니다. 여기서 sampling rate는 무엇일까요? 초당 샘플링의 횟수를 말합니다. 샘플링이란? 1초의 연속적인 신호를 몇 개의 숫자로 나누는 표현할 것인지를 말합니다. 그렇다면 Sampling rate는 어떻게 설정하는 것이 좋을까요?\n",
    "\n",
    "- 나이키스트-섀넌 표본화에 따라 Sampling rate가 결정되며, 일반적으로 사용되는 주파수 영역대는 16kHz, 44.1kHz를 많이 사용합니다. 16kHz는 보통 Speech에서 많이 사용되는 주파수 영역대이고, 44.1kHz는 Music에서 많이 사용하는 주파수영역대입니다. 우리는 음성데이터를 사용할 것이므로, sampling rate를16000(16k)으로 지정하겠습니다. duration은 지속시간을 나타내며, 단위는 초단위 입니다. 여기서 Hz는 주기가 일정하게 반복되는 횟수를 의미하며, 이를 주파수라고 칭합니다. 따라서 주파수의 단위는 Hz입니다.\n",
    "\n",
    "### 나이키스트-섀넌 표본화에 따르면 Sampling rate는 어떻게 결정하라고 나와있나요?\n",
    "\n",
    "- 아날로그를 디지털로 거친 후 디지털을 아날로그로 왜곡없이 복원하기 위해서는 표본화 된 최대 주파수가 2배보다 더 클 때 가능하다고 나와있습니다.\n",
    "\n",
    "### 오디오(Music)에서는 왜 44.1kHz를 사용할까요? 위 그림의 주파수 영역을 참고해 설명해 보세요.\n",
    "\n",
    "- 인간의 최대 가청 주파수가 20kHz이기 때문에 나이키스트-섀넌 표본화에 따라 40kHz의 Sampling frequency를 기준으로 잡는다. \n",
    "- 실제로는 추가적인 이유로 오디오 레코드에선 44.1kHz를 사용한다.\n",
    "\n",
    "## 표본화, 양자화, 부호화\n",
    "- 연속적인 아날로그 신호를 컴퓨터 입력으로 넣게 되면 표본화(Sampling), 양자화(Quantizing), 부호화(Encoding)을 거쳐 이진 디지털 신호(Binary Digital Signal)로 변화시켜 인식하게 됩니다. 아래 그림은 아날로그 오디오 신호를 표본화, 양자화하는 과정을 시각화하여 보여 줍니다.\n",
    "\n",
    "- 위에서 설명한 바와 같이 아날로그 데이터에서 일정 간격으로 표본을 채취하는 방식으로 이산적 데이터를 구합니다. 그러나 디지털화를 위해서는 이산적 - 데이터의 값 자체가 소수점 아래로 무한히 정밀해질 수 없고, 일정 간격으로 값을 근사하여 구할 수밖에 없습니다. 이 과정을 양자화라고 합니다. 이 과정에서 원본 아날로그 데이터화의 차이가 발생하고 미세한 왜곡이 발생합니다. Sampling rate 가 클수록 이 기대 왜곡치가 작아져 원본에 가까운 형태로 변환됩니다.\n",
    "\n",
    "- 그리고 마지막으로 부호화를 통해 표본화->양자화를 거친 원본 아날로그 수치가 최종적인 디지털 표현(0과 1로만 이루어진)을 얻게 됩니다.\n",
    "\n",
    "## Wave data 분석\n",
    "- 이제 오늘 만들어볼 음성인식 모델을 위한 학습데이터를 분석해 보겠습니다. 아래와 같이 환경을 구성한 후, 데이터 다운로드를 진행해 주세요.\n",
    "- \\$ mkdir -p ~/aiffel/speech_recognition/data\n",
    "- \\$ mkdir -p ~/aiffel/speech_recognition/models\n",
    "- \\$ wget http://bigfile.mail.naver.com/bigfileupload/downloadfid=8QbZaAIq1NKXFoMjK3YXaxbwF3YZKAUmKxgwaxulFAMqFCYwFog9FquwFvlHrMrpxg9KAtwFAt9K6K9F4udpx0oKxFvKxCoFq+vpo+0 -O speech_wav_8000.npz\n",
    "- \\$ mv speech_wav_8000.npz ~/aiffel/speech_recognition/data\n",
    "\n",
    "- 이렇게 다운로드받은 waveform 형태의 데이터에 대해 좀더 자세한 정보를 정리해 봅시다.\n",
    "\n",
    "## Wave 데이터 형식 뜯어보기\n",
    "- Audio 데이터는 이미지 데이터보다 낮은 차원의 데이터를 다룹니다. 1개의 wav 파일은 1차원으로 이루어진 시계열 데이터입니다. 실제로는 여러 소리 파형이 합쳐진 복합파라고 보아야 합니다.\n",
    "\n",
    "## 간단한 단어 인식을 위한 훈련데이터셋\n",
    "- 짧은 단어의 라벨이 달려 있어, 음성들을 텍스트로 구분하는 모델 혹은 간단한 명령어를 구별하는 모델로도 학습이 가능합니다.\n",
    "\n",
    "## Bits per sample\n",
    "- 샘플 하나마다 소리의 세기를 몇 비트로 저장했는지를 나타냅니다.\n",
    "- 값이 커질 수록 세기를 정확하게 저장할 수 있습니다.\n",
    "- 예를 들어, Bits rate가 16 bits 라면, 소리의 세기를 2^16, 즉 65,536 단계로 표현할 수 있습니다.\n",
    "- 4 bits / 8 bits unsigned int / 16 bits int / 24 bits / 32 bits float 등의 자료형으로 표현됩니다.\n",
    "\n",
    "## Sampling frequency\n",
    "- 샘플링 주파수라는 단어입니다. 소리로부터 초당 샘플링한 횟수를 의미합니다.\n",
    "- 샘플링은 원래 신호를 다시 복원할 수 있는 나이퀴스트(Nyquist) 샘플링 룰에 따라서, 복원해야 할 신호 주파수의 2배 이상으로 샘플링 해야합니다.\n",
    "- 가청 주파수 20 ~ 24 kHz를 복원하기 위해 사용하며, 음원에서 많이 쓰이는 값은 44.1 kHz입니다.\n",
    "\n",
    "## Channel\n",
    "- 각 채널별로 샘플링된 데이터가 따로 저장되어 있습니다.\n",
    "- 2채널(Stereo) 음원을 재생하면 왼쪽(L)과 오른쪽(R) 스피커에 다른 값이 출력됩니다.\n",
    "- 1채널(Mono) 음원의 경우 왼쪽(L) 데이터만 있으며, 재생시엔 왼쪽(L)과 오른쪽(R) 스피커에 같은 값이 출력됩니다.\n",
    "\n",
    "- 1000 Hz 신호를 저장한 wav 파일입니다.\n",
    "- Sample rate 는 48000 Hz, 즉 1초 재생하는데 필요한 Sample 수는 48000개입니다.\n",
    "- 모든 샘플은 -1 ~ 1 사이의 정해진 bits per sample의 값으로 표현됩니다."
   ]
  },
  {
   "cell_type": "code",
   "execution_count": 5,
   "metadata": {},
   "outputs": [
    {
     "name": "stdout",
     "output_type": "stream",
     "text": [
      "✅\n"
     ]
    }
   ],
   "source": [
    "import numpy as np\n",
    "import os\n",
    "\n",
    "data_path = os.getenv(\"HOME\")+'/aiffel/speech_recognition/data/speech_wav_8000.npz'\n",
    "speech_data = np.load(data_path)\n",
    "\n",
    "print(\"✅\")"
   ]
  },
  {
   "cell_type": "markdown",
   "metadata": {},
   "source": [
    "## 데이터셋 살펴보기\n",
    "- npz 파일로 이뤄진 데이터이며, 각각 데이터는 \"wav_vals\", \"label_vals\"로 저장되어있습니다.\n"
   ]
  },
  {
   "cell_type": "code",
   "execution_count": 6,
   "metadata": {},
   "outputs": [
    {
     "name": "stdout",
     "output_type": "stream",
     "text": [
      "Wave data shape :  (50620, 8000)\n",
      "Label data shape :  (50620, 1)\n",
      "✅\n"
     ]
    }
   ],
   "source": [
    "print(\"Wave data shape : \", speech_data[\"wav_vals\"].shape)\n",
    "print(\"Label data shape : \", speech_data[\"label_vals\"].shape)\n",
    "print(\"✅\")"
   ]
  },
  {
   "cell_type": "markdown",
   "metadata": {},
   "source": [
    "- 데이터셋은 1초 길이의 오디오 음성데이터 50620개로 이뤄져 있습니다.\n",
    "- 주어진 데이터의 원래 Sample rate는 16000이지만, 8000으로 re-sampling해 사용하겠습니다.\n",
    "- 모두 1초의 길이를 가지는 오디오 음성데이터이여서 각각 8000개의 sample data를 가지고 있습니다.\n",
    "- 데이터셋은 캐글의 음성 인식 챌린지의 데이터입니다. Kaggle/TensorFlow Speech Recognition Challenge. This is version 0.01 of the data set containing 64,727 audio files, released on August 3rd 2017.\n",
    "- 위에서 설명한 데이터가 맞는지 확인해봅시다."
   ]
  },
  {
   "cell_type": "code",
   "execution_count": 7,
   "metadata": {},
   "outputs": [
    {
     "name": "stdout",
     "output_type": "stream",
     "text": [
      "rand num :  46822\n",
      "Wave data shape :  (8000,)\n",
      "label :  ['silence']\n"
     ]
    },
    {
     "data": {
      "text/html": [
       "\n",
       "                <audio  controls=\"controls\" >\n",
       "                    <source src=\"data:audio/wav;base64,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\" type=\"audio/wav\" />\n",
       "                    Your browser does not support the audio element.\n",
       "                </audio>\n",
       "              "
      ],
      "text/plain": [
       "<IPython.lib.display.Audio object>"
      ]
     },
     "execution_count": 7,
     "metadata": {},
     "output_type": "execute_result"
    }
   ],
   "source": [
    "import IPython.display as ipd\n",
    "import random\n",
    "\n",
    "# 데이터 선택\n",
    "rand = random.randint(0, len(speech_data[\"wav_vals\"]))\n",
    "print(\"rand num : \", rand)\n",
    "\n",
    "sr = 8000 # 1초동안 재생되는 샘플의 갯수\n",
    "data = speech_data[\"wav_vals\"][rand]\n",
    "print(\"Wave data shape : \", data.shape)\n",
    "print(\"label : \", speech_data[\"label_vals\"][rand])\n",
    "\n",
    "ipd.Audio(data, rate=sr)"
   ]
  },
  {
   "cell_type": "markdown",
   "metadata": {},
   "source": [
    "# Train/Test 데이터셋 구성하기\n",
    "## Label data 처리\n",
    "- 현재 단어의 정답은 Text 형태로 이뤄져있습니다. 학습을 위해서는 Text 데이터를 학습가능한 형태로 만들어줘야 합니다.\n",
    "\n",
    "- 아래는 구분해야할 label 목록입니다.\n",
    "\n",
    "- ['yes', 'no', 'up', 'down', 'left', 'right', 'on', 'off', 'stop', 'go' ]\n",
    "\n",
    "- 이외 데이터들은 'unknown', 'silence'로 분류되어 있습니다."
   ]
  },
  {
   "cell_type": "code",
   "execution_count": 8,
   "metadata": {},
   "outputs": [
    {
     "name": "stdout",
     "output_type": "stream",
     "text": [
      "✅\n"
     ]
    }
   ],
   "source": [
    "target_list = ['yes', 'no', 'up', 'down', 'left', 'right', 'on', 'off', 'stop', 'go']\n",
    "\n",
    "label_value = target_list\n",
    "label_value.append('unknown')\n",
    "label_value.append('silence')\n",
    "\n",
    "new_label_value = dict()\n",
    "for i, l in enumerate(label_value):\n",
    "    new_label_value[l] = i\n",
    "label_value = new_label_value\n",
    "print(\"✅\")"
   ]
  },
  {
   "cell_type": "markdown",
   "metadata": {},
   "source": [
    "- Text 이루어진 데이터를 학습에 사용하기 위해서 index 형태로 바꿔주는 작업을 하겠습니다.\n",
    "- int로 이뤄진 index 작업을 통해서 Label data를 더 쉽게 사용할 수 있습니다."
   ]
  },
  {
   "cell_type": "code",
   "execution_count": 9,
   "metadata": {},
   "outputs": [
    {
     "name": "stdout",
     "output_type": "stream",
     "text": [
      "✅\n"
     ]
    }
   ],
   "source": [
    "temp = []\n",
    "for v in speech_data[\"label_vals\"]:\n",
    "    temp.append(label_value[v[0]])\n",
    "label_data = np.array(temp)\n",
    "print(\"✅\")"
   ]
  },
  {
   "cell_type": "markdown",
   "metadata": {},
   "source": [
    "# 학습을 위한 데이터 분리\n",
    "- sklearn의 train_test_split 함수를 이용해 train data와 test data를 분리하겠습니다.\n",
    "- test_size의 인자를 조절해주면, 설정해 준 값만큼 Test dataset의 비율을 조정할 수 있습니다."
   ]
  },
  {
   "cell_type": "code",
   "execution_count": 10,
   "metadata": {},
   "outputs": [
    {
     "name": "stdout",
     "output_type": "stream",
     "text": [
      "[[-7.7782001e-04 -1.4804723e-03 -1.6122821e-03 ... -2.2411468e-03\n",
      "  -1.9848016e-03 -1.6775083e-03]\n",
      " [ 7.8120909e-04  8.0229813e-04  2.4090025e-04 ... -3.1451322e-02\n",
      "  -3.5144284e-02 -3.5959605e-02]\n",
      " [ 7.3783835e-03  2.2905888e-02  3.4074321e-02 ... -3.6577664e-02\n",
      "  -2.8712852e-02  8.6325388e-03]\n",
      " ...\n",
      " [-2.2614548e-05 -5.9972768e-05 -1.0492082e-05 ...  5.4428953e-04\n",
      "   3.4634568e-04  2.3921955e-04]\n",
      " [ 1.2177756e-03  1.9520976e-03  1.9031762e-03 ...  3.6232064e-03\n",
      "   3.1692202e-03  2.7067473e-03]\n",
      " [ 6.7400046e-02 -2.7408186e-02 -1.1144972e-01 ... -2.8288474e-02\n",
      "  -5.9134994e-02  4.7294717e-02]]\n",
      "✅\n"
     ]
    }
   ],
   "source": [
    "from sklearn.model_selection import train_test_split\n",
    "\n",
    "sr = 8000\n",
    "train_wav, test_wav, train_label, test_label = train_test_split(speech_data[\"wav_vals\"], \n",
    "                                                                label_data, \n",
    "                                                                test_size=0.1,\n",
    "                                                                shuffle=True)\n",
    "print(train_wav)\n",
    "\n",
    "train_wav = train_wav.reshape([-1, sr, 1]) # add channel for CNN\n",
    "test_wav = test_wav.reshape([-1, sr, 1])\n",
    "print(\"✅\")"
   ]
  },
  {
   "cell_type": "markdown",
   "metadata": {},
   "source": [
    "나눠진 데이터셋을 확인해 보겠습니다."
   ]
  },
  {
   "cell_type": "code",
   "execution_count": 11,
   "metadata": {},
   "outputs": [
    {
     "name": "stdout",
     "output_type": "stream",
     "text": [
      "train data :  (45558, 8000, 1)\n",
      "train labels :  (45558,)\n",
      "test data :  (5062, 8000, 1)\n",
      "test labels :  (5062,)\n",
      "✅\n"
     ]
    }
   ],
   "source": [
    "print(\"train data : \", train_wav.shape)\n",
    "print(\"train labels : \", train_label.shape)\n",
    "print(\"test data : \", test_wav.shape)\n",
    "print(\"test labels : \", test_label.shape)\n",
    "print(\"✅\")"
   ]
  },
  {
   "cell_type": "markdown",
   "metadata": {},
   "source": [
    "# Hyper-parameters setting\n",
    "- 학습을 위한 하이퍼파라미터를 설정해줍니다.모델 체크포인트 저장을 위한 체크포인트의 경로를 설정해줍니다.\n",
    "- 후에 모델 체크포인트 Callback 함수를 설정하거나, 모델을 불러올때 사용합니다.\n",
    "\n"
   ]
  },
  {
   "cell_type": "code",
   "execution_count": 12,
   "metadata": {},
   "outputs": [
    {
     "data": {
      "text/plain": [
       "'/home/aiffel0042/aiffel/speech_recognition/models/wav'"
      ]
     },
     "execution_count": 12,
     "metadata": {},
     "output_type": "execute_result"
    }
   ],
   "source": [
    "batch_size = 128\n",
    "max_epochs = 10\n",
    "\n",
    "# the save point\n",
    "checkpoint_dir = os.getenv('HOME')+'/aiffel/speech_recognition/models/wav'\n",
    "\n",
    "checkpoint_dir"
   ]
  },
  {
   "cell_type": "markdown",
   "metadata": {},
   "source": [
    "# Data setting\n",
    "- tf.data.Dataset을 이용해서 데이터셋을 구성해주겠습니다.\n",
    "- from_tensor_slices 함수에 return 받길 원하는 데이터를 튜플 (data, label) 형태로 넣어서 사용할 수 있습니다.\n",
    "\n",
    "- map 함수는 dataset이 데이터를 불러올때마다 동작해주는 일종의 데이터 전처리 함수입니다.\n",
    "- 첫번째 map 함수는 from_tensor_slice 에 입력한 튜플 형태로 데이터를 받으며 return 값으로 어떤 데이터를 반환할지 결정합니다.\n",
    "- map 함수는 중첩해서 사용이 가능합니다."
   ]
  },
  {
   "cell_type": "code",
   "execution_count": 13,
   "metadata": {},
   "outputs": [
    {
     "name": "stdout",
     "output_type": "stream",
     "text": [
      "✅\n"
     ]
    }
   ],
   "source": [
    "def one_hot_label(wav, label):\n",
    "    label = tf.one_hot(label, depth=12)\n",
    "    return wav, label\n",
    "print(\"✅\")"
   ]
  },
  {
   "cell_type": "markdown",
   "metadata": {},
   "source": [
    "## tf.data.Dataset 함수를 구성하겠습니다.\n",
    "- batch는 dataset에서 제공하는 튜플 형태의 데이터를 얼마나 가져올지 결정하는 함수입니다.\n"
   ]
  },
  {
   "cell_type": "code",
   "execution_count": 14,
   "metadata": {},
   "outputs": [
    {
     "name": "stdout",
     "output_type": "stream",
     "text": [
      "<BatchDataset shapes: ((None, 8000, 1), (None, 12)), types: (tf.float32, tf.float32)>\n",
      "<BatchDataset shapes: ((None, 8000, 1), (None, 12)), types: (tf.float32, tf.float32)>\n",
      "✅\n"
     ]
    }
   ],
   "source": [
    "import tensorflow as tf\n",
    "\n",
    "# for train\n",
    "train_dataset = tf.data.Dataset.from_tensor_slices((train_wav, train_label))\n",
    "train_dataset = train_dataset.map(one_hot_label)\n",
    "train_dataset = train_dataset.repeat().batch(batch_size=batch_size)\n",
    "print(train_dataset)\n",
    "\n",
    "# for test\n",
    "test_dataset = tf.data.Dataset.from_tensor_slices((test_wav, test_label))\n",
    "test_dataset = test_dataset.map(one_hot_label)\n",
    "test_dataset = test_dataset.batch(batch_size=batch_size)\n",
    "print(test_dataset)\n",
    "print(\"✅\")"
   ]
  },
  {
   "cell_type": "markdown",
   "metadata": {},
   "source": [
    "# Wave classification 모델 구현\n",
    "## Model\n",
    "- Audio 데이터는 1차원 데이터이기 때문에 데이터 형식에 맞도록 모델을 구성해주어야 합니다.\n",
    "- Conv1D layer를 이용해서 모델을 구성해보겠습니다.\n",
    "- Conv, batch norm, dropout, dense layer 등을 이용해 모델을 구성해보도록 하죠."
   ]
  },
  {
   "cell_type": "code",
   "execution_count": 15,
   "metadata": {},
   "outputs": [
    {
     "name": "stdout",
     "output_type": "stream",
     "text": [
      "Model: \"functional_1\"\n",
      "_________________________________________________________________\n",
      "Layer (type)                 Output Shape              Param #   \n",
      "=================================================================\n",
      "input_1 (InputLayer)         [(None, 8000, 1)]         0         \n",
      "_________________________________________________________________\n",
      "conv1d (Conv1D)              (None, 8000, 32)          320       \n",
      "_________________________________________________________________\n",
      "conv1d_1 (Conv1D)            (None, 8000, 32)          9248      \n",
      "_________________________________________________________________\n",
      "max_pooling1d (MaxPooling1D) (None, 4000, 32)          0         \n",
      "_________________________________________________________________\n",
      "conv1d_2 (Conv1D)            (None, 4000, 64)          18496     \n",
      "_________________________________________________________________\n",
      "conv1d_3 (Conv1D)            (None, 4000, 64)          36928     \n",
      "_________________________________________________________________\n",
      "max_pooling1d_1 (MaxPooling1 (None, 2000, 64)          0         \n",
      "_________________________________________________________________\n",
      "conv1d_4 (Conv1D)            (None, 2000, 128)         73856     \n",
      "_________________________________________________________________\n",
      "conv1d_5 (Conv1D)            (None, 2000, 128)         147584    \n",
      "_________________________________________________________________\n",
      "conv1d_6 (Conv1D)            (None, 2000, 128)         147584    \n",
      "_________________________________________________________________\n",
      "max_pooling1d_2 (MaxPooling1 (None, 1000, 128)         0         \n",
      "_________________________________________________________________\n",
      "conv1d_7 (Conv1D)            (None, 1000, 256)         295168    \n",
      "_________________________________________________________________\n",
      "conv1d_8 (Conv1D)            (None, 1000, 256)         590080    \n",
      "_________________________________________________________________\n",
      "conv1d_9 (Conv1D)            (None, 1000, 256)         590080    \n",
      "_________________________________________________________________\n",
      "max_pooling1d_3 (MaxPooling1 (None, 500, 256)          0         \n",
      "_________________________________________________________________\n",
      "dropout (Dropout)            (None, 500, 256)          0         \n",
      "_________________________________________________________________\n",
      "flatten (Flatten)            (None, 128000)            0         \n",
      "_________________________________________________________________\n",
      "dense (Dense)                (None, 256)               32768256  \n",
      "_________________________________________________________________\n",
      "batch_normalization (BatchNo (None, 256)               1024      \n",
      "_________________________________________________________________\n",
      "activation (Activation)      (None, 256)               0         \n",
      "_________________________________________________________________\n",
      "dense_1 (Dense)              (None, 12)                3084      \n",
      "=================================================================\n",
      "Total params: 34,681,708\n",
      "Trainable params: 34,681,196\n",
      "Non-trainable params: 512\n",
      "_________________________________________________________________\n"
     ]
    }
   ],
   "source": [
    "from tensorflow.keras import layers\n",
    "\n",
    "input_tensor = layers.Input(shape=(sr, 1))\n",
    "\n",
    "x = layers.Conv1D(32, 9, padding='same', activation='relu')(input_tensor)\n",
    "x = layers.Conv1D(32, 9, padding='same', activation='relu')(x)\n",
    "x = layers.MaxPool1D()(x)\n",
    "\n",
    "x = layers.Conv1D(64, 9, padding='same', activation='relu')(x)\n",
    "x = layers.Conv1D(64, 9, padding='same', activation='relu')(x)\n",
    "x = layers.MaxPool1D()(x)\n",
    "\n",
    "x = layers.Conv1D(128, 9, padding='same', activation='relu')(x)\n",
    "x = layers.Conv1D(128, 9, padding='same', activation='relu')(x)\n",
    "x = layers.Conv1D(128, 9, padding='same', activation='relu')(x)\n",
    "x = layers.MaxPool1D()(x)\n",
    "\n",
    "x = layers.Conv1D(256, 9, padding='same', activation='relu')(x)\n",
    "x = layers.Conv1D(256, 9, padding='same', activation='relu')(x)\n",
    "x = layers.Conv1D(256, 9, padding='same', activation='relu')(x)\n",
    "x = layers.MaxPool1D()(x)\n",
    "x = layers.Dropout(0.3)(x)\n",
    "\n",
    "x = layers.Flatten()(x)\n",
    "x = layers.Dense(256)(x)\n",
    "x = layers.BatchNormalization()(x)\n",
    "x = layers.Activation('relu')(x)\n",
    "\n",
    "output_tensor = layers.Dense(12)(x)\n",
    "\n",
    "model_wav = tf.keras.Model(input_tensor, output_tensor)\n",
    "\n",
    "model_wav.summary()"
   ]
  },
  {
   "cell_type": "markdown",
   "metadata": {},
   "source": [
    "# Loss\n",
    "- 현재 라벨이 될 수 있는 12개의 단어 class를 가지고 있습니다.\n",
    "- 해당 class를 구분하기 위해서는 multi-class classification이 필요하며, 이를 수행하기 위한 Loss로 Categorical Cross-Entropy loss를 사용하겠습니다.\n",
    "\n"
   ]
  },
  {
   "cell_type": "code",
   "execution_count": 16,
   "metadata": {},
   "outputs": [
    {
     "name": "stdout",
     "output_type": "stream",
     "text": [
      "✅\n"
     ]
    }
   ],
   "source": [
    "optimizer=tf.keras.optimizers.Adam(1e-4)\n",
    "model_wav.compile(loss=tf.keras.losses.CategoricalCrossentropy(from_logits=True),\n",
    "             optimizer=optimizer,\n",
    "             metrics=['accuracy'])\n",
    "print(\"✅\")"
   ]
  },
  {
   "cell_type": "markdown",
   "metadata": {},
   "source": [
    "# Training\n",
    "## Callback\n",
    "- model.fit 함수를 이용할 때, callback 함수를 이용해서 학습 중간 중간 원하는 동작을 하도록 설정할 수 있습니다.\n",
    "- 모델을 재사용하기위해서 모델 가중치를 저장하는 callback 함수를 추가해보겠습니다.\n",
    "- Model Checkpoint callback은 모델을 학습을 진행하며, fit 함수내 다양한 인자를 지정해 모니터하며 동작하게 설정할 수 있습니다.\n",
    "- 현재 모델은 validation loss를 모니터하며, loss가 낮아지면 모델 파라미터를 저장하도록 구성되어 있습니다."
   ]
  },
  {
   "cell_type": "code",
   "execution_count": 17,
   "metadata": {},
   "outputs": [
    {
     "name": "stdout",
     "output_type": "stream",
     "text": [
      "✅\n"
     ]
    }
   ],
   "source": [
    "cp_callback = tf.keras.callbacks.ModelCheckpoint(checkpoint_dir,\n",
    "                                                 save_weights_only=True,\n",
    "                                                 monitor='val_loss',\n",
    "                                                 mode='auto',\n",
    "                                                 save_best_only=True,\n",
    "                                                 verbose=1)\n",
    "print(\"✅\")"
   ]
  },
  {
   "cell_type": "code",
   "execution_count": 18,
   "metadata": {},
   "outputs": [
    {
     "name": "stdout",
     "output_type": "stream",
     "text": [
      "Epoch 1/10\n"
     ]
    },
    {
     "ename": "ResourceExhaustedError",
     "evalue": " OOM when allocating tensor with shape[128] and type int64 on /job:localhost/replica:0/task:0/device:GPU:0 by allocator GPU_0_bfc\n\t [[node ArgMax (defined at <ipython-input-18-d03be25a2b28>:6) ]]\nHint: If you want to see a list of allocated tensors when OOM happens, add report_tensor_allocations_upon_oom to RunOptions for current allocation info.\n [Op:__inference_train_function_2248]\n\nFunction call stack:\ntrain_function\n",
     "output_type": "error",
     "traceback": [
      "\u001b[0;31m---------------------------------------------------------------------------\u001b[0m",
      "\u001b[0;31mResourceExhaustedError\u001b[0m                    Traceback (most recent call last)",
      "\u001b[0;32m<ipython-input-18-d03be25a2b28>\u001b[0m in \u001b[0;36m<module>\u001b[0;34m\u001b[0m\n\u001b[1;32m      4\u001b[0m                     \u001b[0mvalidation_data\u001b[0m\u001b[0;34m=\u001b[0m\u001b[0mtest_dataset\u001b[0m\u001b[0;34m,\u001b[0m\u001b[0;34m\u001b[0m\u001b[0;34m\u001b[0m\u001b[0m\n\u001b[1;32m      5\u001b[0m                     \u001b[0mvalidation_steps\u001b[0m\u001b[0;34m=\u001b[0m\u001b[0mlen\u001b[0m\u001b[0;34m(\u001b[0m\u001b[0mtest_wav\u001b[0m\u001b[0;34m)\u001b[0m \u001b[0;34m//\u001b[0m \u001b[0mbatch_size\u001b[0m\u001b[0;34m,\u001b[0m\u001b[0;34m\u001b[0m\u001b[0;34m\u001b[0m\u001b[0m\n\u001b[0;32m----> 6\u001b[0;31m                     \u001b[0mcallbacks\u001b[0m\u001b[0;34m=\u001b[0m\u001b[0;34m[\u001b[0m\u001b[0mcp_callback\u001b[0m\u001b[0;34m]\u001b[0m\u001b[0;34m\u001b[0m\u001b[0;34m\u001b[0m\u001b[0m\n\u001b[0m\u001b[1;32m      7\u001b[0m                     )\n\u001b[1;32m      8\u001b[0m \u001b[0mprint\u001b[0m\u001b[0;34m(\u001b[0m\u001b[0;34m\"✅\"\u001b[0m\u001b[0;34m)\u001b[0m\u001b[0;34m\u001b[0m\u001b[0;34m\u001b[0m\u001b[0m\n",
      "\u001b[0;32m~/anaconda3/envs/aiffel/lib/python3.7/site-packages/tensorflow/python/keras/engine/training.py\u001b[0m in \u001b[0;36m_method_wrapper\u001b[0;34m(self, *args, **kwargs)\u001b[0m\n\u001b[1;32m    106\u001b[0m   \u001b[0;32mdef\u001b[0m \u001b[0m_method_wrapper\u001b[0m\u001b[0;34m(\u001b[0m\u001b[0mself\u001b[0m\u001b[0;34m,\u001b[0m \u001b[0;34m*\u001b[0m\u001b[0margs\u001b[0m\u001b[0;34m,\u001b[0m \u001b[0;34m**\u001b[0m\u001b[0mkwargs\u001b[0m\u001b[0;34m)\u001b[0m\u001b[0;34m:\u001b[0m\u001b[0;34m\u001b[0m\u001b[0;34m\u001b[0m\u001b[0m\n\u001b[1;32m    107\u001b[0m     \u001b[0;32mif\u001b[0m \u001b[0;32mnot\u001b[0m \u001b[0mself\u001b[0m\u001b[0;34m.\u001b[0m\u001b[0m_in_multi_worker_mode\u001b[0m\u001b[0;34m(\u001b[0m\u001b[0;34m)\u001b[0m\u001b[0;34m:\u001b[0m  \u001b[0;31m# pylint: disable=protected-access\u001b[0m\u001b[0;34m\u001b[0m\u001b[0;34m\u001b[0m\u001b[0m\n\u001b[0;32m--> 108\u001b[0;31m       \u001b[0;32mreturn\u001b[0m \u001b[0mmethod\u001b[0m\u001b[0;34m(\u001b[0m\u001b[0mself\u001b[0m\u001b[0;34m,\u001b[0m \u001b[0;34m*\u001b[0m\u001b[0margs\u001b[0m\u001b[0;34m,\u001b[0m \u001b[0;34m**\u001b[0m\u001b[0mkwargs\u001b[0m\u001b[0;34m)\u001b[0m\u001b[0;34m\u001b[0m\u001b[0;34m\u001b[0m\u001b[0m\n\u001b[0m\u001b[1;32m    109\u001b[0m \u001b[0;34m\u001b[0m\u001b[0m\n\u001b[1;32m    110\u001b[0m     \u001b[0;31m# Running inside `run_distribute_coordinator` already.\u001b[0m\u001b[0;34m\u001b[0m\u001b[0;34m\u001b[0m\u001b[0;34m\u001b[0m\u001b[0m\n",
      "\u001b[0;32m~/anaconda3/envs/aiffel/lib/python3.7/site-packages/tensorflow/python/keras/engine/training.py\u001b[0m in \u001b[0;36mfit\u001b[0;34m(self, x, y, batch_size, epochs, verbose, callbacks, validation_split, validation_data, shuffle, class_weight, sample_weight, initial_epoch, steps_per_epoch, validation_steps, validation_batch_size, validation_freq, max_queue_size, workers, use_multiprocessing)\u001b[0m\n\u001b[1;32m   1096\u001b[0m                 batch_size=batch_size):\n\u001b[1;32m   1097\u001b[0m               \u001b[0mcallbacks\u001b[0m\u001b[0;34m.\u001b[0m\u001b[0mon_train_batch_begin\u001b[0m\u001b[0;34m(\u001b[0m\u001b[0mstep\u001b[0m\u001b[0;34m)\u001b[0m\u001b[0;34m\u001b[0m\u001b[0;34m\u001b[0m\u001b[0m\n\u001b[0;32m-> 1098\u001b[0;31m               \u001b[0mtmp_logs\u001b[0m \u001b[0;34m=\u001b[0m \u001b[0mtrain_function\u001b[0m\u001b[0;34m(\u001b[0m\u001b[0miterator\u001b[0m\u001b[0;34m)\u001b[0m\u001b[0;34m\u001b[0m\u001b[0;34m\u001b[0m\u001b[0m\n\u001b[0m\u001b[1;32m   1099\u001b[0m               \u001b[0;32mif\u001b[0m \u001b[0mdata_handler\u001b[0m\u001b[0;34m.\u001b[0m\u001b[0mshould_sync\u001b[0m\u001b[0;34m:\u001b[0m\u001b[0;34m\u001b[0m\u001b[0;34m\u001b[0m\u001b[0m\n\u001b[1;32m   1100\u001b[0m                 \u001b[0mcontext\u001b[0m\u001b[0;34m.\u001b[0m\u001b[0masync_wait\u001b[0m\u001b[0;34m(\u001b[0m\u001b[0;34m)\u001b[0m\u001b[0;34m\u001b[0m\u001b[0;34m\u001b[0m\u001b[0m\n",
      "\u001b[0;32m~/anaconda3/envs/aiffel/lib/python3.7/site-packages/tensorflow/python/eager/def_function.py\u001b[0m in \u001b[0;36m__call__\u001b[0;34m(self, *args, **kwds)\u001b[0m\n\u001b[1;32m    778\u001b[0m       \u001b[0;32melse\u001b[0m\u001b[0;34m:\u001b[0m\u001b[0;34m\u001b[0m\u001b[0;34m\u001b[0m\u001b[0m\n\u001b[1;32m    779\u001b[0m         \u001b[0mcompiler\u001b[0m \u001b[0;34m=\u001b[0m \u001b[0;34m\"nonXla\"\u001b[0m\u001b[0;34m\u001b[0m\u001b[0;34m\u001b[0m\u001b[0m\n\u001b[0;32m--> 780\u001b[0;31m         \u001b[0mresult\u001b[0m \u001b[0;34m=\u001b[0m \u001b[0mself\u001b[0m\u001b[0;34m.\u001b[0m\u001b[0m_call\u001b[0m\u001b[0;34m(\u001b[0m\u001b[0;34m*\u001b[0m\u001b[0margs\u001b[0m\u001b[0;34m,\u001b[0m \u001b[0;34m**\u001b[0m\u001b[0mkwds\u001b[0m\u001b[0;34m)\u001b[0m\u001b[0;34m\u001b[0m\u001b[0;34m\u001b[0m\u001b[0m\n\u001b[0m\u001b[1;32m    781\u001b[0m \u001b[0;34m\u001b[0m\u001b[0m\n\u001b[1;32m    782\u001b[0m       \u001b[0mnew_tracing_count\u001b[0m \u001b[0;34m=\u001b[0m \u001b[0mself\u001b[0m\u001b[0;34m.\u001b[0m\u001b[0m_get_tracing_count\u001b[0m\u001b[0;34m(\u001b[0m\u001b[0;34m)\u001b[0m\u001b[0;34m\u001b[0m\u001b[0;34m\u001b[0m\u001b[0m\n",
      "\u001b[0;32m~/anaconda3/envs/aiffel/lib/python3.7/site-packages/tensorflow/python/eager/def_function.py\u001b[0m in \u001b[0;36m_call\u001b[0;34m(self, *args, **kwds)\u001b[0m\n\u001b[1;32m    838\u001b[0m         \u001b[0;31m# Lifting succeeded, so variables are initialized and we can run the\u001b[0m\u001b[0;34m\u001b[0m\u001b[0;34m\u001b[0m\u001b[0;34m\u001b[0m\u001b[0m\n\u001b[1;32m    839\u001b[0m         \u001b[0;31m# stateless function.\u001b[0m\u001b[0;34m\u001b[0m\u001b[0;34m\u001b[0m\u001b[0;34m\u001b[0m\u001b[0m\n\u001b[0;32m--> 840\u001b[0;31m         \u001b[0;32mreturn\u001b[0m \u001b[0mself\u001b[0m\u001b[0;34m.\u001b[0m\u001b[0m_stateless_fn\u001b[0m\u001b[0;34m(\u001b[0m\u001b[0;34m*\u001b[0m\u001b[0margs\u001b[0m\u001b[0;34m,\u001b[0m \u001b[0;34m**\u001b[0m\u001b[0mkwds\u001b[0m\u001b[0;34m)\u001b[0m\u001b[0;34m\u001b[0m\u001b[0;34m\u001b[0m\u001b[0m\n\u001b[0m\u001b[1;32m    841\u001b[0m     \u001b[0;32melse\u001b[0m\u001b[0;34m:\u001b[0m\u001b[0;34m\u001b[0m\u001b[0;34m\u001b[0m\u001b[0m\n\u001b[1;32m    842\u001b[0m       \u001b[0mcanon_args\u001b[0m\u001b[0;34m,\u001b[0m \u001b[0mcanon_kwds\u001b[0m \u001b[0;34m=\u001b[0m\u001b[0;31m \u001b[0m\u001b[0;31m\\\u001b[0m\u001b[0;34m\u001b[0m\u001b[0;34m\u001b[0m\u001b[0m\n",
      "\u001b[0;32m~/anaconda3/envs/aiffel/lib/python3.7/site-packages/tensorflow/python/eager/function.py\u001b[0m in \u001b[0;36m__call__\u001b[0;34m(self, *args, **kwargs)\u001b[0m\n\u001b[1;32m   2827\u001b[0m     \u001b[0;32mwith\u001b[0m \u001b[0mself\u001b[0m\u001b[0;34m.\u001b[0m\u001b[0m_lock\u001b[0m\u001b[0;34m:\u001b[0m\u001b[0;34m\u001b[0m\u001b[0;34m\u001b[0m\u001b[0m\n\u001b[1;32m   2828\u001b[0m       \u001b[0mgraph_function\u001b[0m\u001b[0;34m,\u001b[0m \u001b[0margs\u001b[0m\u001b[0;34m,\u001b[0m \u001b[0mkwargs\u001b[0m \u001b[0;34m=\u001b[0m \u001b[0mself\u001b[0m\u001b[0;34m.\u001b[0m\u001b[0m_maybe_define_function\u001b[0m\u001b[0;34m(\u001b[0m\u001b[0margs\u001b[0m\u001b[0;34m,\u001b[0m \u001b[0mkwargs\u001b[0m\u001b[0;34m)\u001b[0m\u001b[0;34m\u001b[0m\u001b[0;34m\u001b[0m\u001b[0m\n\u001b[0;32m-> 2829\u001b[0;31m     \u001b[0;32mreturn\u001b[0m \u001b[0mgraph_function\u001b[0m\u001b[0;34m.\u001b[0m\u001b[0m_filtered_call\u001b[0m\u001b[0;34m(\u001b[0m\u001b[0margs\u001b[0m\u001b[0;34m,\u001b[0m \u001b[0mkwargs\u001b[0m\u001b[0;34m)\u001b[0m  \u001b[0;31m# pylint: disable=protected-access\u001b[0m\u001b[0;34m\u001b[0m\u001b[0;34m\u001b[0m\u001b[0m\n\u001b[0m\u001b[1;32m   2830\u001b[0m \u001b[0;34m\u001b[0m\u001b[0m\n\u001b[1;32m   2831\u001b[0m   \u001b[0;34m@\u001b[0m\u001b[0mproperty\u001b[0m\u001b[0;34m\u001b[0m\u001b[0;34m\u001b[0m\u001b[0m\n",
      "\u001b[0;32m~/anaconda3/envs/aiffel/lib/python3.7/site-packages/tensorflow/python/eager/function.py\u001b[0m in \u001b[0;36m_filtered_call\u001b[0;34m(self, args, kwargs, cancellation_manager)\u001b[0m\n\u001b[1;32m   1846\u001b[0m                            resource_variable_ops.BaseResourceVariable))],\n\u001b[1;32m   1847\u001b[0m         \u001b[0mcaptured_inputs\u001b[0m\u001b[0;34m=\u001b[0m\u001b[0mself\u001b[0m\u001b[0;34m.\u001b[0m\u001b[0mcaptured_inputs\u001b[0m\u001b[0;34m,\u001b[0m\u001b[0;34m\u001b[0m\u001b[0;34m\u001b[0m\u001b[0m\n\u001b[0;32m-> 1848\u001b[0;31m         cancellation_manager=cancellation_manager)\n\u001b[0m\u001b[1;32m   1849\u001b[0m \u001b[0;34m\u001b[0m\u001b[0m\n\u001b[1;32m   1850\u001b[0m   \u001b[0;32mdef\u001b[0m \u001b[0m_call_flat\u001b[0m\u001b[0;34m(\u001b[0m\u001b[0mself\u001b[0m\u001b[0;34m,\u001b[0m \u001b[0margs\u001b[0m\u001b[0;34m,\u001b[0m \u001b[0mcaptured_inputs\u001b[0m\u001b[0;34m,\u001b[0m \u001b[0mcancellation_manager\u001b[0m\u001b[0;34m=\u001b[0m\u001b[0;32mNone\u001b[0m\u001b[0;34m)\u001b[0m\u001b[0;34m:\u001b[0m\u001b[0;34m\u001b[0m\u001b[0;34m\u001b[0m\u001b[0m\n",
      "\u001b[0;32m~/anaconda3/envs/aiffel/lib/python3.7/site-packages/tensorflow/python/eager/function.py\u001b[0m in \u001b[0;36m_call_flat\u001b[0;34m(self, args, captured_inputs, cancellation_manager)\u001b[0m\n\u001b[1;32m   1922\u001b[0m       \u001b[0;31m# No tape is watching; skip to running the function.\u001b[0m\u001b[0;34m\u001b[0m\u001b[0;34m\u001b[0m\u001b[0;34m\u001b[0m\u001b[0m\n\u001b[1;32m   1923\u001b[0m       return self._build_call_outputs(self._inference_function.call(\n\u001b[0;32m-> 1924\u001b[0;31m           ctx, args, cancellation_manager=cancellation_manager))\n\u001b[0m\u001b[1;32m   1925\u001b[0m     forward_backward = self._select_forward_and_backward_functions(\n\u001b[1;32m   1926\u001b[0m         \u001b[0margs\u001b[0m\u001b[0;34m,\u001b[0m\u001b[0;34m\u001b[0m\u001b[0;34m\u001b[0m\u001b[0m\n",
      "\u001b[0;32m~/anaconda3/envs/aiffel/lib/python3.7/site-packages/tensorflow/python/eager/function.py\u001b[0m in \u001b[0;36mcall\u001b[0;34m(self, ctx, args, cancellation_manager)\u001b[0m\n\u001b[1;32m    548\u001b[0m               \u001b[0minputs\u001b[0m\u001b[0;34m=\u001b[0m\u001b[0margs\u001b[0m\u001b[0;34m,\u001b[0m\u001b[0;34m\u001b[0m\u001b[0;34m\u001b[0m\u001b[0m\n\u001b[1;32m    549\u001b[0m               \u001b[0mattrs\u001b[0m\u001b[0;34m=\u001b[0m\u001b[0mattrs\u001b[0m\u001b[0;34m,\u001b[0m\u001b[0;34m\u001b[0m\u001b[0;34m\u001b[0m\u001b[0m\n\u001b[0;32m--> 550\u001b[0;31m               ctx=ctx)\n\u001b[0m\u001b[1;32m    551\u001b[0m         \u001b[0;32melse\u001b[0m\u001b[0;34m:\u001b[0m\u001b[0;34m\u001b[0m\u001b[0;34m\u001b[0m\u001b[0m\n\u001b[1;32m    552\u001b[0m           outputs = execute.execute_with_cancellation(\n",
      "\u001b[0;32m~/anaconda3/envs/aiffel/lib/python3.7/site-packages/tensorflow/python/eager/execute.py\u001b[0m in \u001b[0;36mquick_execute\u001b[0;34m(op_name, num_outputs, inputs, attrs, ctx, name)\u001b[0m\n\u001b[1;32m     58\u001b[0m     \u001b[0mctx\u001b[0m\u001b[0;34m.\u001b[0m\u001b[0mensure_initialized\u001b[0m\u001b[0;34m(\u001b[0m\u001b[0;34m)\u001b[0m\u001b[0;34m\u001b[0m\u001b[0;34m\u001b[0m\u001b[0m\n\u001b[1;32m     59\u001b[0m     tensors = pywrap_tfe.TFE_Py_Execute(ctx._handle, device_name, op_name,\n\u001b[0;32m---> 60\u001b[0;31m                                         inputs, attrs, num_outputs)\n\u001b[0m\u001b[1;32m     61\u001b[0m   \u001b[0;32mexcept\u001b[0m \u001b[0mcore\u001b[0m\u001b[0;34m.\u001b[0m\u001b[0m_NotOkStatusException\u001b[0m \u001b[0;32mas\u001b[0m \u001b[0me\u001b[0m\u001b[0;34m:\u001b[0m\u001b[0;34m\u001b[0m\u001b[0;34m\u001b[0m\u001b[0m\n\u001b[1;32m     62\u001b[0m     \u001b[0;32mif\u001b[0m \u001b[0mname\u001b[0m \u001b[0;32mis\u001b[0m \u001b[0;32mnot\u001b[0m \u001b[0;32mNone\u001b[0m\u001b[0;34m:\u001b[0m\u001b[0;34m\u001b[0m\u001b[0;34m\u001b[0m\u001b[0m\n",
      "\u001b[0;31mResourceExhaustedError\u001b[0m:  OOM when allocating tensor with shape[128] and type int64 on /job:localhost/replica:0/task:0/device:GPU:0 by allocator GPU_0_bfc\n\t [[node ArgMax (defined at <ipython-input-18-d03be25a2b28>:6) ]]\nHint: If you want to see a list of allocated tensors when OOM happens, add report_tensor_allocations_upon_oom to RunOptions for current allocation info.\n [Op:__inference_train_function_2248]\n\nFunction call stack:\ntrain_function\n"
     ]
    }
   ],
   "source": [
    "#30분 내외 소요\n",
    "history_wav = model_wav.fit(train_dataset, epochs=max_epochs,\n",
    "                    steps_per_epoch=len(train_wav) // batch_size,\n",
    "                    validation_data=test_dataset,\n",
    "                    validation_steps=len(test_wav) // batch_size,\n",
    "                    callbacks=[cp_callback]\n",
    "                    )\n",
    "print(\"✅\")"
   ]
  },
  {
   "cell_type": "markdown",
   "metadata": {},
   "source": [
    "# 학습 결과 Plot\n",
    "- model.fit 함수는 학습 동안의 결과를 return해줍니다.\n",
    "- return 값을 기반으로 loss와 accuracy를 그래프로 표현하겠습니다.\n",
    "- fit 함수에서 전달 받은 Loss와 Accuracy의 값을 이용해 모델이 어떻게 학습되고 있는지 볼 수 있습니다.\n",
    "- train loss와 val_loss의 차이가 커지는 경우 오버피팅이 일어나는 것이기 때문에 이를 수정할 필요가 있습니다.\n",
    "\n",
    "- 출력된 그래프를 기반으로 모델의 학습이 어떻게 진행됐는지 확인해볼 수 있습니다."
   ]
  },
  {
   "cell_type": "code",
   "execution_count": null,
   "metadata": {},
   "outputs": [],
   "source": [
    "import matplotlib.pyplot as plt\n",
    "\n",
    "acc = history_wav.history['accuracy']\n",
    "val_acc = history_wav.history['val_accuracy']\n",
    "\n",
    "loss=history_wav.history['loss']\n",
    "val_loss=history_wav.history['val_loss']\n",
    "\n",
    "epochs_range = range(len(acc))\n",
    "\n",
    "plt.figure(figsize=(8, 8))\n",
    "plt.subplot(1, 2, 1)\n",
    "plt.plot(epochs_range, acc, label='Training Accuracy')\n",
    "plt.plot(epochs_range, val_acc, label='Validation Accuracy')\n",
    "plt.legend(loc='lower right')\n",
    "plt.title('Training and Validation Accuracy')\n",
    "\n",
    "plt.subplot(1, 2, 2)\n",
    "plt.plot(epochs_range, loss, label='Training Loss')\n",
    "plt.plot(epochs_range, val_loss, label='Validation Loss')\n",
    "plt.legend(loc='upper right')\n",
    "plt.title('Training and Validation Loss')\n",
    "plt.show()\n",
    "print(\"✅\")"
   ]
  },
  {
   "cell_type": "markdown",
   "metadata": {},
   "source": [
    "# Evaluation\n",
    "- Test dataset을 이용해서 모델의 성능을 평가합니다.\n",
    "\n",
    "- 실습삼아 checkpoint callback 함수가 저장한 weight를 다시 불러와서 테스트 준비를 해보겠습니다."
   ]
  },
  {
   "cell_type": "code",
   "execution_count": null,
   "metadata": {},
   "outputs": [],
   "source": [
    "model_wav.load_weights(checkpoint_dir)\n",
    "print(\"✅\")"
   ]
  },
  {
   "cell_type": "markdown",
   "metadata": {},
   "source": [
    "- Test data을 이용하여 모델의 예측값과 실제값이 얼마나 일치하는지 확인하겠습니다."
   ]
  },
  {
   "cell_type": "code",
   "execution_count": null,
   "metadata": {},
   "outputs": [],
   "source": [
    "# loss\n",
    "print(\"loss value: {:.3f}\".format(results[0]))\n",
    "# accuracy\n",
    "print(\"accuracy value: {:.4f}%\".format(results[1]*100))  Out [22]:\n",
    "print(\"✅\")"
   ]
  },
  {
   "cell_type": "markdown",
   "metadata": {},
   "source": [
    "# Model Test\n",
    "- Test data 셋을 골라 직접 들어보고 모델의 예측이 맞는지 확인해보아요.\n",
    "\n"
   ]
  },
  {
   "cell_type": "code",
   "execution_count": null,
   "metadata": {},
   "outputs": [],
   "source": [
    "inv_label_value = {v: k for k, v in label_value.items()}\n",
    "batch_index = np.random.choice(len(test_wav), size=1, replace=False)\n",
    "\n",
    "batch_xs = test_wav[batch_index]\n",
    "batch_ys = test_label[batch_index]\n",
    "y_pred_ = model_wav(batch_xs, training=False)\n",
    "\n",
    "print(\"label : \", str(inv_label_value[batch_ys[0]]))\n",
    "\n",
    "ipd.Audio(batch_xs.reshape(8000,), rate=8000)"
   ]
  },
  {
   "cell_type": "code",
   "execution_count": null,
   "metadata": {},
   "outputs": [],
   "source": [
    "if np.argmax(y_pred_) == test_label[i]:\n",
    "    print(\"y_pred: \" + str(inv_label_value[np.argmax(y_pred_)]))\n",
    "else:\n",
    "    print(\"y_pred: \" + str(inv_label_value[np.argmax(y_pred_)]))\n",
    "print(\"✅\")"
   ]
  },
  {
   "cell_type": "markdown",
   "metadata": {},
   "source": [
    "# Skip-Connection model을 추가해보자\n",
    "## Skip-Connection model 구현\n",
    "- 이전 스텝에서 우리는 Conv1D 기반의 간단한 분류 모델을 구현해서 학습 및 테스트를 진행해 보았습니다. 간단한 모델임에도 정확도가 나쁘지 않았을 것입니다.\n",
    "\n",
    "- 하지만 여러분들은 이미지처리 모델을 다루면서 ResNet 등 skip-connection을 활용한 모델들이 훨씬 안정적으로 높은 성능을 낼 수 있음을 배워왔을 것입니다. 그렇다면 이번 음성처리 모델에 적용해도 비슷한 개선 효과를 낼 수 있지 않을까요?\n",
    "\n",
    "- 기존의 모델을 skip-connection이 추가된 모델로 변경해 학습을 진행해보겠습니다."
   ]
  },
  {
   "cell_type": "markdown",
   "metadata": {},
   "source": [
    "- 그림에서 보듯이 위쪽의 데이터가 레이어를 뛰어넘어 레이어를 통과한 값에 더해주는 형식으로 구현됨을 확인할 수 있습니다.\n",
    "- Concat을 이용한 방식으로 구현하면 됩니다.\n",
    "\n",
    "- tf.concat([#layer output tensor, layer output tensor#], axis=#)\n",
    "\n",
    "- 우리가 사용하는 데이터가 1차원 audio 데이터이기 때문에 1차원 데이터를 처리하는 모델을 구성해보겠습니다."
   ]
  },
  {
   "cell_type": "code",
   "execution_count": null,
   "metadata": {},
   "outputs": [],
   "source": [
    "input_tensor = layers.Input(shape=(sr, 1))\n",
    "\n",
    "x = layers.Conv1D(32, 9, padding='same', activation='relu')(input_tensor)\n",
    "x = layers.Conv1D(32, 9, padding='same', activation='relu')(x)\n",
    "skip_1 = layers.MaxPool1D()(x)\n",
    "\n",
    "x = layers.Conv1D(64, 9, padding='same', activation='relu')(skip_1)\n",
    "x = layers.Conv1D(64, 9, padding='same', activation='relu')(x)\n",
    "x = tf.concat([x, skip_1], -1)\n",
    "skip_2 = layers.MaxPool1D()(x)\n",
    "\n",
    "x = layers.Conv1D(128, 9, padding='same', activation='relu')(skip_2)\n",
    "x = layers.Conv1D(128, 9, padding='same', activation='relu')(x)\n",
    "x = layers.Conv1D(128, 9, padding='same', activation='relu')(x)\n",
    "x = tf.concat([x, skip_2], -1)\n",
    "skip_3 = layers.MaxPool1D()(x)\n",
    "\n",
    "x = layers.Conv1D(256, 9, padding='same', activation='relu')(skip_3)\n",
    "x = layers.Conv1D(256, 9, padding='same', activation='relu')(x)\n",
    "x = layers.Conv1D(256, 9, padding='same', activation='relu')(x)\n",
    "x = tf.concat([x, skip_3], -1)\n",
    "x = layers.MaxPool1D()(x)\n",
    "x = layers.Dropout(0.3)(x)\n",
    "\n",
    "x = layers.Flatten()(x)\n",
    "x = layers.Dense(256)(x)\n",
    "x = layers.BatchNormalization()(x)\n",
    "x = layers.Activation('relu')(x)\n",
    "\n",
    "output_tensor = layers.Dense(12)(x)\n",
    "\n",
    "model_wav_skip = tf.keras.Model(input_tensor, output_tensor)\n",
    "\n",
    "model_wav_skip.summary()"
   ]
  },
  {
   "cell_type": "markdown",
   "metadata": {},
   "source": [
    "- 모델 구성만 달라졌을 뿐, 그 외 Task구성이나 데이터셋 구성, 훈련 과정은 동일합니다."
   ]
  },
  {
   "cell_type": "code",
   "execution_count": null,
   "metadata": {},
   "outputs": [],
   "source": [
    "optimizer=tf.keras.optimizers.Adam(1e-4)\n",
    "model_wav_skip.compile(loss=tf.keras.losses.CategoricalCrossentropy(from_logits=True),\n",
    "             optimizer=optimizer,\n",
    "             metrics=['accuracy'])\n",
    "print(\"✅\")"
   ]
  },
  {
   "cell_type": "code",
   "execution_count": null,
   "metadata": {},
   "outputs": [],
   "source": [
    "# the save point\n",
    "checkpoint_dir = os.getenv('HOME')+'/aiffel/speech_recognition/models/wav_skip'\n",
    "\n",
    "cp_callback = tf.keras.callbacks.ModelCheckpoint(checkpoint_dir,\n",
    "                                                 save_weights_only=True,\n",
    "                                                 monitor='val_loss',\n",
    "                                                 mode='auto',\n",
    "                                                 save_best_only=True,\n",
    "                                                 verbose=1)\n",
    "print(\"✅\")"
   ]
  },
  {
   "cell_type": "code",
   "execution_count": null,
   "metadata": {},
   "outputs": [],
   "source": [
    "#30분 내외 소요\n",
    "history_wav_skip = model_wav_skip.fit(train_dataset, epochs=max_epochs,\n",
    "                    steps_per_epoch=len(train_wav) // batch_size,\n",
    "                    validation_data=test_dataset,\n",
    "                    validation_steps=len(test_wav) // batch_size,\n",
    "                    callbacks=[cp_callback]\n",
    "                    )\n",
    "print(\"✅\")"
   ]
  },
  {
   "cell_type": "markdown",
   "metadata": {},
   "source": [
    "- 학습결과의 시각화 및 evaluation 과정도 동일합니다."
   ]
  },
  {
   "cell_type": "code",
   "execution_count": null,
   "metadata": {},
   "outputs": [],
   "source": [
    "import matplotlib.pyplot as plt\n",
    "\n",
    "acc = history_wav_skip.history['accuracy']\n",
    "val_acc = history_wav_skip.history['val_accuracy']\n",
    "\n",
    "loss=history_wav_skip.history['loss']\n",
    "val_loss=history_wav_skip.history['val_loss']\n",
    "\n",
    "epochs_range = range(len(acc))\n",
    "\n",
    "plt.figure(figsize=(8, 8))\n",
    "plt.subplot(1, 2, 1)\n",
    "plt.plot(epochs_range, acc, label='Training Accuracy')\n",
    "plt.plot(epochs_range, val_acc, label='Validation Accuracy')\n",
    "plt.legend(loc='lower right')\n",
    "plt.title('Training and Validation Accuracy')\n",
    "\n",
    "plt.subplot(1, 2, 2)\n",
    "plt.plot(epochs_range, loss, label='Training Loss')\n",
    "plt.plot(epochs_range, val_loss, label='Validation Loss')\n",
    "plt.legend(loc='upper right')\n",
    "plt.title('Training and Validation Loss')\n",
    "plt.show()\n",
    "print(\"✅\")"
   ]
  },
  {
   "cell_type": "code",
   "execution_count": null,
   "metadata": {},
   "outputs": [],
   "source": [
    "# Evaluation \n",
    "\n",
    "model_wav_skip.load_weights(checkpoint_dir)\n",
    "results = model_wav_skip.evaluate(test_dataset)\n",
    "\n",
    "# loss\n",
    "print(\"loss value: {:.3f}\".format(results[0]))\n",
    "# accuracy\n",
    "print(\"accuracy value: {:.4f}%\".format(results[1]*100))\n",
    "print(\"✅\")"
   ]
  },
  {
   "cell_type": "code",
   "execution_count": null,
   "metadata": {},
   "outputs": [],
   "source": [
    "# Test \n",
    "\n",
    "inv_label_value = {v: k for k, v in label_value.items()}\n",
    "batch_index = np.random.choice(len(test_wav), size=1, replace=False)\n",
    "\n",
    "batch_xs = test_wav[batch_index]\n",
    "batch_ys = test_label[batch_index]\n",
    "y_pred_ = model_wav_skip(batch_xs, training=False)\n",
    "\n",
    "print(\"label : \", str(inv_label_value[batch_ys[0]]))\n",
    "\n",
    "ipd.Audio(batch_xs.reshape(8000,), rate=8000)"
   ]
  },
  {
   "cell_type": "code",
   "execution_count": null,
   "metadata": {},
   "outputs": [],
   "source": [
    "if np.argmax(y_pred_) == test_label[i]:\n",
    "    print(\"y_pred: \" + str(inv_label_value[np.argmax(y_pred_)]))\n",
    "else:\n",
    "    print(\"y_pred: \" + str(inv_label_value[np.argmax(y_pred_)]))\n",
    "print(\"✅\")"
   ]
  },
  {
   "cell_type": "markdown",
   "metadata": {},
   "source": [
    "# Spectrogram\n",
    "우리는 지금까지 음성 데이터를 1차원 시계열 데이터로 해석하는 waveform 해석을 통해 다루어 왔습니다.\n",
    "\n",
    "그러나 우리가 다루는 waveform은 실은 많은 음원의 파형이 합성된 복합파라는 것을 앞서 언급했습니다. 그렇다면 보다 뚜렷이 다양한 파형들을 그 주파수 대역별로 나누어 별도로 해석해볼 수 있는 방법은 없을까요? 이제 우리가 자주 들었던 푸리에 변환(Fourier transform)을 언급할 때가 된 것 같습니다.\n",
    "\n",
    "## 푸리에변환 (Fourier transform)\n",
    "임의의 입력 신호를 다양한 주파수를 갖는 주기함수 (복수 지수함수)들이 합으로 분해하여 표현하는 것을 말합니다. 수식으로 말하면 아래와 같습니다."
   ]
  },
  {
   "cell_type": "markdown",
   "metadata": {},
   "source": [
    "## 조금 더 깊이 들어가는 푸리에 변환\n",
    "조금만 더 이론적으로 들어가 봅시다. 아래 내용은 꼭 이해하지 못해도 좋습니다.\n",
    "\n",
    "## 오일러 공식 (지수함수와 주기함수와의 관계)"
   ]
  },
  {
   "cell_type": "markdown",
   "metadata": {},
   "source": [
    "## STFT(Short Time Fourier Transform)\n",
    "- FFT는 시간에 흐름에 따라 신호의 주파수가 변했을 때, 어느 시간대에 주파수가 변하는지 모르게 됩니다. 이러한 한계를 극복하기 위해서, STFT는 시간의 길이를 나눠서 퓨리에 변환을 하게 됩니다."
   ]
  },
  {
   "cell_type": "markdown",
   "metadata": {},
   "source": [
    "## Spectrogram이란?\n",
    "- wav 데이터를 해석하는 방법 중 하나로, 일정 시간동안 wav 데이터 안의 다양한 주파수들이 얼마나 포함되어 있는 지를 보여줍니다.\n",
    "- 이 Spectrogram을 그리는 방법이 바로 위에 소개한 STFT 입니다."
   ]
  },
  {
   "cell_type": "code",
   "execution_count": null,
   "metadata": {},
   "outputs": [],
   "source": [
    "import librosa\n",
    "\n",
    "def wav2spec(wav, fft_size=258): # spectrogram shape을 맞추기위해서 size 변형\n",
    "    D = np.abs(librosa.stft(wav, n_fft=fft_size))\n",
    "    return D\n",
    "print(\"✅\")"
   ]
  },
  {
   "cell_type": "code",
   "execution_count": null,
   "metadata": {},
   "outputs": [],
   "source": [
    "# 위에서 뽑았던 sample data\n",
    "spec = wav2spec(data)\n",
    "print(\"Waveform shape : \",data.shape)\n",
    "print(\"Spectrogram shape : \",spec.shape)"
   ]
  },
  {
   "cell_type": "markdown",
   "metadata": {},
   "source": [
    "- 어떻습니까? 1차원의 Waveform 데이터가 2차원의 Spectrogram 데이터로 변환되었습니다.\n",
    "\n",
    "- 그렇다면 방금 변환된 Spectrogram을 출력해보겠습니다.\n",
    "\n",
    "- 만약에, 우리가 Waveform 데이터 대신 이 Spectrogram 포맷으로 모든 음성 데이터를 변환한 후 음성인식 모델을 학습시킨다면, 과연 Waveform과 비교했을 때 더 나은 성능을 기대할 수 있을까요?"
   ]
  },
  {
   "cell_type": "code",
   "execution_count": null,
   "metadata": {},
   "outputs": [],
   "source": [
    "import librosa.display\n",
    "\n",
    "librosa.display.specshow(librosa.amplitude_to_db(spec, ref=np.max), x_axis='time')\n",
    "plt.title('Power spectrogram')\n",
    "plt.colorbar(format='%+2.0f dB')\n",
    "plt.xticks(range(0, 1))\n",
    "plt.tight_layout()\n",
    "plt.show()"
   ]
  },
  {
   "cell_type": "markdown",
   "metadata": {},
   "source": [
    "# 프로젝트: Spectrogram classification 모델 구현\n",
    "- 그래서 오늘은 방금 든 궁금증을 해결해 보는 것으로 프로젝트를 진행해 봅니다.\n",
    "\n",
    "- 오늘 실습에서 1차원 Waveform 데이터를 입력받아 Text 라벨을 출력하는 모델을 기본 버전과 Skip-connection 버전으로 나누어 학습시켜 보았습니다. 이번에는 2차원 Spectrogram 데이터를 입력받아 위 모델과 동일한 역할을 수행하는 모델을 아래 제시된 단계와 같이 수행해 보시기 바랍니다. 이번에도 마찬가지로 기본 버전과 Skip-connection 버전으로 나누어 각각 진행해 보시기 바랍니다.\n",
    "- 모델 구조를 제외하고는 실습에서 제시된 것과 거의 동일하게 진행될 것입니다."
   ]
  },
  {
   "cell_type": "markdown",
   "metadata": {},
   "source": [
    "# 1. 데이터 처리와 분류\n",
    "\n",
    "- 라벨 데이터 처리하기\n",
    "- sklearn의 rain_test_split함수를 이용하여 train, test 분리\n",
    "\n",
    "# 2. 학습을 위한 하이퍼파라미터 설정\n",
    "\n",
    "# 3. 데이터셋 구성\n",
    "\n",
    "- tf.data.Dataset을 이용\n",
    "- from_tensor_slices 함수에 return 받길 원하는 데이터를 튜플 (data, label) 형태로 넣어서 사용\n",
    "- map과 batch를 이용한 데이터 전처리\n",
    "\n",
    "# 4. 2차원 Spectrogram 데이터를 처리하는 모델 구성\n",
    "\n",
    "- Conv2D layer, batchnorm, dropout, dense layer 등을 이용\n",
    "- 12개의 단어 class를 구분하는 loss를 사용하고 Adam optimizer를 사용\n",
    "- 모델 가중치를 저장하는 checkpoint callback 함수 추가\n",
    "\n",
    "# 5. 학습 후, 학습이 어떻게 진행됐는지 그래프로 출력\n",
    "\n",
    "- loss, accuracy를 그래프로 표현\n",
    "\n",
    "# 6. Test dataset을 이용해서 모델의 성능을 평가\n",
    "\n",
    "- 저장한 weight 불러오기\n",
    "- 모델의 예측값과 정답값이 얼마나 일치하는지 확인"
   ]
  },
  {
   "cell_type": "code",
   "execution_count": null,
   "metadata": {},
   "outputs": [],
   "source": []
  },
  {
   "cell_type": "code",
   "execution_count": null,
   "metadata": {},
   "outputs": [],
   "source": []
  },
  {
   "cell_type": "code",
   "execution_count": null,
   "metadata": {},
   "outputs": [],
   "source": []
  },
  {
   "cell_type": "code",
   "execution_count": null,
   "metadata": {},
   "outputs": [],
   "source": []
  }
 ],
 "metadata": {
  "kernelspec": {
   "display_name": "aiffel",
   "language": "python",
   "name": "aiffel"
  },
  "language_info": {
   "codemirror_mode": {
    "name": "ipython",
    "version": 3
   },
   "file_extension": ".py",
   "mimetype": "text/x-python",
   "name": "python",
   "nbconvert_exporter": "python",
   "pygments_lexer": "ipython3",
   "version": "3.7.6"
  }
 },
 "nbformat": 4,
 "nbformat_minor": 4
}
