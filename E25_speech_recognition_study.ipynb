{
 "cells": [
  {
   "cell_type": "markdown",
   "metadata": {},
   "source": [
    "# 사람이 말하는 단어를 인공지능 모델로 구분해보자\n",
    "\n",
    "# 평가 루브릭\n",
    "\n",
    "아래의 기준을 바탕으로 프로젝트를 평가합니다.\n",
    "\n",
    "## 평가문항\t상세기준\n",
    "1. 음성데이터를 2차원 Spectrogram 으로 변환하여 데이터셋을 구성하였다. : 스펙트로그램 시각화 및 train/test 데이터셋 구성이 정상진행되었다.\n",
    "2. 1,2차원 데이터를 처리하는 음성인식 모델이 정상 작동한다. : 스펙트로그램을 입력받은 모델이 학습과정에서 안정적으로 수렴하며, evaluation/test 단계를 무리없이 진행가능하다.\n",
    "3. 테스트셋 수행결과 음성인식 모델의 Accuracy가 일정 수준에 도달하였다. : evaluation 결과 75% 이상의 정확도를 달성하는 모델이 하나 이상 존재한다.\n",
    "\n",
    "\n",
    "# 음성과 오디오 데이터\n",
    "\n",
    "## 파동으로서의 소리\n",
    "\n",
    "- 소리는 진동으로 인한 공기의 압축을 이야기하며, 압축이 얼마나됬느냐는 파동(Wave)로 말할 수 있습니다. 소리에서 얻을 수 있는 물리량은 기본적으로 진폭(Amplitude)와 주파수(Frequency)그리고 위상(Phase)의 3요소로 나타낼 수 있다.\n",
    "\n",
    "- 물리적 음향에서는 intensity를 소리 진폭의 세기로 정의하고, Frequency는 소리 떨림의 빠르기 그리고 Tone-Color는 소리 파동의 모양으로 정의합니다. 심리적 음향에서는 Loudness는 소리의 크기를 말하고, Pitch는 음정, 소리의 높낮이, 진동수를 의미합니다. 마지막으로 Timbre는 음색 소리 감각등을 나타냅니다.\n",
    "\n",
    "![title](E-23-04.png)\n",
    "\n",
    "- 위 그림을 살펴봅시다. 첫번째 줄이 보여주는 것은 주파수(frequency)에 따라 소리의 높이가 달라진다는 것입니다. 두번째 줄은 진폭(Amplitude)에 따라 소리의 세기(크기)가 달라진다는 것을 보여줍니다. 위 두 줄은 주파수 또는 진폭만 달라졌을 뿐, 그래프의 기본 모양은 동일한 것들이었습니다. 그러나 세번째 줄은 아예 그래프의 모양 자체가 다른 것입니다. 이 때는 음정, 음색 등 소리의 맵시가 달라지게 됩니다.\n",
    "\n",
    "## 주파수는 무엇일까요?\n",
    "\n",
    "- 주파수는 the number of compressed이고 단위는 Hz를 사용합니다. 1Hz는 1초에 한번 진동한다는 것을 의미합니다. \n",
    "- 주기(period)는 파동이 한 번 진동하는데 걸리는 시간, 또는 그 길이를 말하며, 일반적으로는 sin함수의 주기는 2π/ω입니다. 주파수는 1초동안의 진동 횟수입니다.\n",
    "\n",
    "![title](E-23-05.max-800x600.png)\n",
    "\n",
    "- 소리의 높낮이는 음원의 주파수에 의해 결정됩니다. 주파수가 높으면 높은 소리가 나고, 낮으면 낮은 소리가 납니다.\n",
    "\n",
    "## 복합파(Complex Wave)란 무엇일까?\n",
    "\n",
    "- 우리가 사용하는 대부분의 소리들은 복합파입니다. 서로다른 주파수를 가진 수많은 소리가 뒤섞여 만들어지는 복합파는, 복수의 서로 다른 정현파(sine wave)들의 합으로 이루어진 파형입니다. 수식으로 표현하자면 아래와 같습니다. 이른바 오디오 데이터의 제너럴한 수식 표현이라고 할 수 있습니다.\n",
    "\n",
    "![title](Complex_Wave.png)\n",
    "\n",
    "# 오디오 데이터의 디지털화\n",
    "\n",
    "- 위에서 언급한 오디오 데이터는 아날로그 데이터로서의 소리에 대한 설명이었습니다. 그러나 컴퓨터는 0과 1로만 이루어진 디지털 데이터만 취급 가능합니다. 우리가 흔히 볼 수 있는 소리들은 컴퓨터의 입력으로 들어가게 되면 어떤 과정을 거치게 될까요? 컴퓨터가 소리를 이해하는 과정을 살펴보겠습니다!\n",
    "\n",
    "- 연속적인 아날로그 신호 중 가장 단순한 형태인 사인 함수(sine function)를 수식으로 표현하면 아래와 같습니다.\n",
    "\n",
    "![title](sine_function.png)\n",
    "\n",
    "- A는 진폭(amplitude)으로 위, 아래로 움직이는 소리의 크기를 나타냅니다. \n",
    "- f는 주파수(frequnecy)로, 초당 진동 횟수를 나타냅니다. 즉, 소리의 세기를 나타냅니다. 주파수가 높으면 빠르게 진동해 소리의 세기가 커지게 됩니다. \n",
    "- ϕ은 위상이고 \n",
    "- t는 시간으로 정의합니다.\n",
    "\n",
    "\n",
    "# 아날로그 신호의 표본화(Sampling)\n"
   ]
  },
  {
   "cell_type": "code",
   "execution_count": 1,
   "metadata": {},
   "outputs": [],
   "source": [
    "import numpy as np\n",
    "import matplotlib.pyplot as plt\n",
    "import warnings\n",
    "warnings.filterwarnings(\"ignore\")\n",
    "\n",
    "def single_tone(frequecy, sampling_rate=16000, duration=1):\n",
    "    t = np.linspace(0, duration, int(sampling_rate))\n",
    "    y = np.sin(2 * np.pi * frequecy * t)\n",
    "    return y\n",
    "\n",
    "y = single_tone(400)"
   ]
  },
  {
   "cell_type": "markdown",
   "metadata": {},
   "source": [
    "- 1 사이클 동안 나타나는 연속시간 연속크기 아날로그 신호인 간단한 사인함수를 그려보겠습니다."
   ]
  },
  {
   "cell_type": "code",
   "execution_count": 2,
   "metadata": {},
   "outputs": [
    {
     "data": {
      "image/png": "[encoded data removed]",
      "text/plain": [
       "<Figure size 432x288 with 1 Axes>"
      ]
     },
     "metadata": {
      "needs_background": "light"
     },
     "output_type": "display_data"
    }
   ],
   "source": [
    "plt.plot(y[:41])\n",
    "plt.show()"
   ]
  },
  {
   "cell_type": "markdown",
   "metadata": {},
   "source": [
    "- 시간축 방향에서 일정 간격으로 샘플을 추출하여 이산 신호(discrete signal)로 변환시키는 과정을 표본화(Sampling)라고 부릅니다. \n",
    "- 아래 그래프는 1 사이클 동안 나타나는 이산시간 연속크기 신호를 한번 출력해보도록 하겠습니다."
   ]
  },
  {
   "cell_type": "code",
   "execution_count": 3,
   "metadata": {},
   "outputs": [
    {
     "data": {
      "image/png": "[encoded data removed]",
      "text/plain": [
       "<Figure size 432x288 with 1 Axes>"
      ]
     },
     "metadata": {
      "needs_background": "light"
     },
     "output_type": "display_data"
    }
   ],
   "source": [
    "plt.stem(y[:41])\n",
    "plt.show()"
   ]
  },
  {
   "cell_type": "markdown",
   "metadata": {},
   "source": [
    "- 우리는 위에서 single_tone() 함수 구현시 sampling rate를 16000으로 지정하고, duration은 1초, 그리고 주파수는 400인 사인함수를 정의했습니다. 여기서 sampling rate는 무엇일까요? 초당 샘플링의 횟수를 말합니다. 샘플링이란? 1초의 연속적인 신호를 몇 개의 숫자로 나누는 표현할 것인지를 말합니다. 그렇다면 Sampling rate는 어떻게 설정하는 것이 좋을까요?\n",
    "\n",
    "- 나이키스트-섀넌 표본화에 따라 Sampling rate가 결정되며, 일반적으로 사용되는 주파수 영역대는 16kHz, 44.1kHz를 많이 사용합니다. 16kHz는 보통 Speech에서 많이 사용되는 주파수 영역대이고, 44.1kHz는 Music에서 많이 사용하는 주파수영역대입니다. 우리는 음성데이터를 사용할 것이므로, sampling rate를16000(16k)으로 지정하겠습니다. duration은 지속시간을 나타내며, 단위는 초단위 입니다. 여기서 Hz는 주기가 일정하게 반복되는 횟수를 의미하며, 이를 주파수라고 칭합니다. 따라서 주파수의 단위는 Hz입니다.\n",
    "\n",
    "### 나이키스트-섀넌 표본화에 따르면 Sampling rate는 어떻게 결정하라고 나와있나요?\n",
    "\n",
    "- 아날로그를 디지털로 거친 후 디지털을 아날로그로 왜곡없이 복원하기 위해서는 표본화 된 최대 주파수가 2배보다 더 클 때 가능하다고 나와있습니다.\n",
    "\n",
    "### 오디오(Music)에서는 왜 44.1kHz를 사용할까요? 위 그림의 주파수 영역을 참고해 설명해 보세요.\n",
    "\n",
    "- 인간의 최대 가청 주파수가 20kHz이기 때문에 나이키스트-섀넌 표본화에 따라 40kHz의 Sampling frequency를 기준으로 잡는다. \n",
    "- 실제로는 추가적인 이유로 오디오 레코드에선 44.1kHz를 사용한다.\n",
    "\n",
    "## 표본화, 양자화, 부호화\n",
    "- 연속적인 아날로그 신호를 컴퓨터 입력으로 넣게 되면 표본화(Sampling), 양자화(Quantizing), 부호화(Encoding)을 거쳐 이진 디지털 신호(Binary Digital Signal)로 변화시켜 인식하게 됩니다. 아래 그림은 아날로그 오디오 신호를 표본화, 양자화하는 과정을 시각화하여 보여 줍니다.\n",
    "\n",
    "- 위에서 설명한 바와 같이 아날로그 데이터에서 일정 간격으로 표본을 채취하는 방식으로 이산적 데이터를 구합니다. 그러나 디지털화를 위해서는 이산적 - 데이터의 값 자체가 소수점 아래로 무한히 정밀해질 수 없고, 일정 간격으로 값을 근사하여 구할 수밖에 없습니다. 이 과정을 양자화라고 합니다. 이 과정에서 원본 아날로그 데이터화의 차이가 발생하고 미세한 왜곡이 발생합니다. Sampling rate 가 클수록 이 기대 왜곡치가 작아져 원본에 가까운 형태로 변환됩니다.\n",
    "\n",
    "- 그리고 마지막으로 부호화를 통해 표본화->양자화를 거친 원본 아날로그 수치가 최종적인 디지털 표현(0과 1로만 이루어진)을 얻게 됩니다.\n",
    "\n",
    "## Wave data 분석\n",
    "- 이제 오늘 만들어볼 음성인식 모델을 위한 학습데이터를 분석해 보겠습니다. 아래와 같이 환경을 구성한 후, 데이터 다운로드를 진행해 주세요.\n",
    "- \\$ mkdir -p ~/aiffel/speech_recognition/data\n",
    "- \\$ mkdir -p ~/aiffel/speech_recognition/models\n",
    "- \\$ wget http://bigfile.mail.naver.com/bigfileupload/downloadfid=8QbZaAIq1NKXFoMjK3YXaxbwF3YZKAUmKxgwaxulFAMqFCYwFog9FquwFvlHrMrpxg9KAtwFAt9K6K9F4udpx0oKxFvKxCoFq+vpo+0 -O speech_wav_8000.npz\n",
    "- \\$ mv speech_wav_8000.npz ~/aiffel/speech_recognition/data\n",
    "\n",
    "- 이렇게 다운로드받은 waveform 형태의 데이터에 대해 좀더 자세한 정보를 정리해 봅시다.\n",
    "\n",
    "## Wave 데이터 형식 뜯어보기\n",
    "- Audio 데이터는 이미지 데이터보다 낮은 차원의 데이터를 다룹니다. 1개의 wav 파일은 1차원으로 이루어진 시계열 데이터입니다. 실제로는 여러 소리 파형이 합쳐진 복합파라고 보아야 합니다.\n",
    "\n",
    "## 간단한 단어 인식을 위한 훈련데이터셋\n",
    "- 짧은 단어의 라벨이 달려 있어, 음성들을 텍스트로 구분하는 모델 혹은 간단한 명령어를 구별하는 모델로도 학습이 가능합니다.\n",
    "\n",
    "## Bits per sample\n",
    "- 샘플 하나마다 소리의 세기를 몇 비트로 저장했는지를 나타냅니다.\n",
    "- 값이 커질 수록 세기를 정확하게 저장할 수 있습니다.\n",
    "- 예를 들어, Bits rate가 16 bits 라면, 소리의 세기를 2^16, 즉 65,536 단계로 표현할 수 있습니다.\n",
    "- 4 bits / 8 bits unsigned int / 16 bits int / 24 bits / 32 bits float 등의 자료형으로 표현됩니다.\n",
    "\n",
    "## Sampling frequency\n",
    "- 샘플링 주파수라는 단어입니다. 소리로부터 초당 샘플링한 횟수를 의미합니다.\n",
    "- 샘플링은 원래 신호를 다시 복원할 수 있는 나이퀴스트(Nyquist) 샘플링 룰에 따라서, 복원해야 할 신호 주파수의 2배 이상으로 샘플링 해야합니다.\n",
    "- 가청 주파수 20 ~ 24 kHz를 복원하기 위해 사용하며, 음원에서 많이 쓰이는 값은 44.1 kHz입니다.\n",
    "\n",
    "## Channel\n",
    "- 각 채널별로 샘플링된 데이터가 따로 저장되어 있습니다.\n",
    "- 2채널(Stereo) 음원을 재생하면 왼쪽(L)과 오른쪽(R) 스피커에 다른 값이 출력됩니다.\n",
    "- 1채널(Mono) 음원의 경우 왼쪽(L) 데이터만 있으며, 재생시엔 왼쪽(L)과 오른쪽(R) 스피커에 같은 값이 출력됩니다.\n",
    "\n",
    "- 1000 Hz 신호를 저장한 wav 파일입니다.\n",
    "- Sample rate 는 48000 Hz, 즉 1초 재생하는데 필요한 Sample 수는 48000개입니다.\n",
    "- 모든 샘플은 -1 ~ 1 사이의 정해진 bits per sample의 값으로 표현됩니다."
   ]
  },
  {
   "cell_type": "code",
   "execution_count": 4,
   "metadata": {},
   "outputs": [
    {
     "name": "stdout",
     "output_type": "stream",
     "text": [
      "✅\n"
     ]
    }
   ],
   "source": [
    "import numpy as np\n",
    "import os\n",
    "\n",
    "data_path = os.getenv(\"HOME\")+'/aiffel/speech_recognition/data/speech_wav_8000.npz'\n",
    "speech_data = np.load(data_path)\n",
    "\n",
    "print(\"✅\")"
   ]
  },
  {
   "cell_type": "markdown",
   "metadata": {},
   "source": [
    "## 데이터셋 살펴보기\n",
    "- npz 파일로 이뤄진 데이터이며, 각각 데이터는 \"wav_vals\", \"label_vals\"로 저장되어있습니다.\n"
   ]
  },
  {
   "cell_type": "code",
   "execution_count": 5,
   "metadata": {},
   "outputs": [
    {
     "name": "stdout",
     "output_type": "stream",
     "text": [
      "Wave data shape :  (50620, 8000)\n",
      "Label data shape :  (50620, 1)\n",
      "✅\n"
     ]
    }
   ],
   "source": [
    "print(\"Wave data shape : \", speech_data[\"wav_vals\"].shape)\n",
    "print(\"Label data shape : \", speech_data[\"label_vals\"].shape)\n",
    "print(\"✅\")"
   ]
  },
  {
   "cell_type": "markdown",
   "metadata": {},
   "source": [
    "- 데이터셋은 1초 길이의 오디오 음성데이터 50620개로 이뤄져 있습니다.\n",
    "- 주어진 데이터의 원래 Sample rate는 16000이지만, 8000으로 re-sampling해 사용하겠습니다.\n",
    "- 모두 1초의 길이를 가지는 오디오 음성데이터이여서 각각 8000개의 sample data를 가지고 있습니다.\n",
    "- 데이터셋은 캐글의 음성 인식 챌린지의 데이터입니다. Kaggle/TensorFlow Speech Recognition Challenge. This is version 0.01 of the data set containing 64,727 audio files, released on August 3rd 2017.\n",
    "- 위에서 설명한 데이터가 맞는지 확인해봅시다."
   ]
  },
  {
   "cell_type": "code",
   "execution_count": 6,
   "metadata": {},
   "outputs": [
    {
     "name": "stdout",
     "output_type": "stream",
     "text": [
      "rand num :  24906\n",
      "Wave data shape :  (8000,)\n",
      "label :  ['go']\n"
     ]
    },
    {
     "data": {
      "text/html": [
       "\n",
       "                <audio  controls=\"controls\" >\n",
       "                    <source src=\"data:audio/wav;base64,UklGRqQ+AABXQVZFZm10IBAAAAABAAEAQB8AAIA+AAACABAAZGF0YYA+AAB5AKwAAQBC/2oAjAB8AOT/sv/J/4X/bQDC/2P/WACRALP/d//IABsAPgDn/8P/+P4c/5EAn/8J/7r/dgAu/x8AFQEVAQAAFgBf/0v/CwBSAO4AhP9v/3v/5f9E/+gAKwCH/0X/yP8tAIj/IwEf/y7/XP+jAD0Adv/n/+T/egBEAEwA9P71/ysBewB7/9v/RwBnAJ4AKABSADoAggC3AKoAuQBHALj/xv+JAAYACgDY//z/LwAlAHoAZf/4/yEAEwA7ACMA+P+P/zEAcQDJ/+r/bgA1APf/lABIABb/bv+eAFEBsgCS/7v/0wBDABkAJQCm/3D/pP9y//X+Nv9z/ykAm/+A/yf/KP8JACUAXf8X/wUAMwA2AEUAYQDB/0j/df8OAZYA+v5q/0cAkAGQAS8Bq//M/ywAEAC4AJ8AEwDU/oH/DgBIAOT/2v8dACsAyf9S/yYAaADv/9H/twC3ADYADQC6/0H/EACTAHD/iP9dAG4AMADi/ywAAwC7/r7+Rv/w/ln/Gv9q/rH+7P58/6r/nv+C/yn/oP9j/8f/SADt/xP//P48AAsAWQB0AP7///5Q/8L/Uv/q/9D/yf/M/8UApQCf/2z/XQAcAKj/iABqABsANACTAGwAQgCXAN0BTgHXAO4AbwFwAd0ADQEuACwAZABHAP3/oAAwAcMA4P8dADIAw/8QALsAeQAm/8P/UQDc/zj/mv/BAC4Af/84AI0AMAA9/5T/KQCxAFEBRwBJ/00AdgGoAM//Zv+0/4//zf8Z/xb/IwDh/6z/4v/H/0AA2ADE/3P/xf6v/rD+NP+2/kr/v/90/2oA6P/G//n+GAD//6P/TQA0AB4AZP8aAA0AzP/P//D+7/4i//H/jv9///v/qP/XAKoAlAD9AHoAA/84/uH+z/+sAO7/Bf+g/3IBtgGhAJkAngCxAP4ArABr/0H/uQDX/zf/oADR/yr/MQB1AQUBk/8hAGsAg/87/wkAMwADAEcA+P8gAAQA1v+S/8QAmwECAdoAkQAfAY8BqAHjAJcA9P98////FwBP/+L+5P/P/9T/x/+D/9D+/v6e/5L+x/3y/TL+aP0Z/rb+7f6R/lD/LABj/5n/UAC6AGoA0ACFAFUAlADJAfIBaAKRAucC/AIbAvoBxgGkAmoBewHWAEgAcgBpAcQCxQEOAeP/IAABACz/ov1F/Kz84/uQ+4j75vq3+yr8zvu8+/b8zf2A/eP9Kv/ZAPgAOQEuAWoBOwI3AiACowHlAVgCZQFmAaQCmwIfAvYAsgEUAej/wP8f/3P/Mv/g//f+ff+GAIEA7QDrAOkAyQCLAH//3v7h/gX/mP6E/Ub+pv/+//cBFAPqA/AEQAatBqQGewZQBRIDHADO/93+af3e+8n5aviU9wb4KfnE+AL44fd++Jj6yfo++mX63PqM/CP+BP+s/xIBbwGPAaEC8AODBUgGuwY1B38IiAoICwIKaQlNC/EKawh4B78FDgPBAJ3+7fsD+kn5ffh69mj3nvjn9xn4qPiS+Sj6g/vW/PP7z/yg/cv8mPzu+7j7SPyJ/Bv89vwn/soA+gAOAcQCcgTOBcwEEwW3A/kDGgS3AjkCGAIrA3IDkgNjBKcFrwYeCIgILAhMCOEHdQdoBs0CyAA6AAr+f/xI/Mj7NPpd+pr7avth/Av9ZPy5/Br+ff/N/8AA/QBBADcAaAH2APf/iQDc/4b9GfzF+5b5nvjT91/3Sfbm9t/54/lm+Tv6yvwr/kv/IQAWAVQCBATVBM8DuQOABCkGgAb2B3QKJQzvDP0Ntg8CEDoPHQ1qC7IIRwVtA8//K/y6+br31vaW94z3m/Zr90b4wPht+V36iPoU/FL9KP5X/rz9Ev3r+/n6hvpf/LT8Bv1c/a/9Vf6H/tf+3/1I/a39W/6d/Xr9Av53/kT/k/5r/nn/LAD7/1gA4AIPBYYG1gdpCWIM7Q2LDmYN9Ar2CA0G7AOjAtEACv/s/eb8vvxv/G77IPu3/E39Bv28/av+pf50/9UBzQHjAcQAegAl/9/98f11/LD78/n/+uT6qfph+0j78PvS+0b8zPv/+pP8P/6z/hT/wP8cAS0BOQJLA/AD7gUjCFUJGwm8Cj8MAQ0iDiYPzw8DDkMMJwoNB2oDFwCd/uD66Pj+9vT0bPR29Ev2yfVo9qz4c/ls+VL6c/sl/Kj7nftR+3r7BfxN+wf7PvoL+wP85fus+7b8zPym+577SvyA++X6d/zY+w/8Wf3T/uz+Nv7f/+IAkQJJBYcGDwfNCKALeQ3LDqkQ+hDiEF4PTw3SCxQJAQZxA8oAUv4G/m/9U/wB+yb60fq++oP77/uI+0X7rvuH/JD8Nvz5+0/8JPzz+hX6jPre+Sz4SfeU+N34dvnW+W74x/gG+qz6rvk1+p/7Uf0L/g//YQDSABUCogH2AosGPAmLClILfQ7HEFYS1RTmFR8W8xRBFB4S3g7RC/QIagYCArD+Svys+XD3kPXc9OT0EPZ+9mD27vZU91z4A/hB+UX6+PrC+t36qPxB/UD9lPv8+4f7K/yp/ej9af3W/En9VvuY+rL7P/yF+5j7GP0X/Uv9wf6m/64AyQL1BB8F3wavCWEKxwygD6MRRRQWFb0UJxVrFCwSMg9VDPQGVAIM/5D7q/go9p71wfOy87H0efRR8/PzqvW99hX5aPmP+Zj6z/wJ/m3+fP+l/7P/CgAuAB0Adv9s/lv+Wv6k/ZD9Gv2E/Jb88fsd/Pb8DP71/pQA5AERA5UEMAXeBkYJFAvxDEoO2g8UEooUbxYRF9IYvhlnGCQWaRPeD1kLSgVw/5z6APZd8+Xw0u4e7q3s7Osv7Dft6u4E8MjwivGe8rT0pfVK9bL20fjh+qP6RPoj+q34I/je97z3s/fH+Tv64Pg9+Wn5PfnL+P732fgU+7P8ov6m/j0BiwSiBCIFwwiTCtwLWQt2DvkRRxSyF8MQiRXVIXQfRRbLGoYePxLxCRINHge8/M339/ch9YHy9/B68sTwKPJ7803lq+oiBevxZtPD+4EOxPsc5iTzeg+vCXTrO+OHCf4LLNXm3XIWBwUD4g3pSRI7C5rYM+ziIIoHA+FBB8Map/p2+coQ+A8z+woE8Rd4DAgDPx2IK2MX3QyDIwwk4gpoDlASFQXc9U727/b74mXXDenC6cHcYudcAQsEwfdOBi0g+xiLAw0OqxnZBBHvsvcc+PrhBtfD2mHhG9ag14rrvORE62gC3AR0/UALUhWQDW4PkBa5DOMEhAyvB8b+FwYYCH8HhQ1vFQITFyUkLVA7Cjo5Ne1E2yA8EoAIAgvAzh+2XcX9weqaa6qL3w/ioed4+NE5/zOCMiE0clG9MvYPqgrwARnoksGlyHPC+bRopGLCH9ZP3r3iiAnUGHYYlhbbKWMbK/40A8T3j+iM1bLmWN7q63n0BA2ZGOQsikAbS3xPHlvWZW9YjFMWMSU9YQa94uXI7N0TuXCHh6YK1ZDZKrZGDSM5DkOwGHtIj1rDMVcNmgfTB5/Ik7e7q/XCX7lvxB/WV/Z2EckYBBZOHIQqLBmT/enoE+N+0vvC2bIDx63M+NR72R/0egemDhooZzEERZQ5v01uOro0VzNjL4IqhyM3MRwODiey9cDhPNb1Ad3Ni5DzwUnxbfMIvRkhFz/AQV4Go0B4UAAigwXfA5YTrs/+ydq8Nd5hxNPT+Oq1/e8NRRQDHG4SIBxBEF/2Y9eQ4a7T1rqwuSHOwdF01sflAvi8AuEPHjQtOVhEEjBtPho6di8QHLcdKSW6JXk1kB4nKHvsL/RE6Wv5ib02riTdaPlnANvwYEKjOaBEjxPRLFwVM/KP3sDMStc8sH/HY8ZK7R3sCQVgIRAoUzaCM3U07QKv6/7sk9zBsLSluM7K2K7U2NcK+QEJggQaCWMF9xB1FfMhjBRiHMAivCWGEwwXFyP5KhInJy85QfYvxCan1wHd4uAo6nChCpbP2pH/ZQ08CR5MzUZ+RUsS4g5V72DUJcYVvFLFCLOa4g72SCGfGTgplj4iNS8zfRN/EGXiC9m0y0DINMdKwNPZi9Kw73Pu7f9K/Lr52fzc9ScClgaLFFoRsh1MIIUcdhMpIL0f/iTCKmRD4kTkT/JDqDGFCGLON9UW2dTXKZDVq5Ln8xz1GjIlckprPYgrzvwJCDriNtDkzq3Y+dTfzBD++xkjMAUeSyqlIocW0w8E8lznhtYz7Y3VfsI0yBTfB+y8zErfuuI/82Ps8+3b8UvpPQgvFtUkahSbIn0uFzqTKwMntic0KCYtbDt5OmkuRTxZLGUhGcY9vHbLzuMEq4yRs8sH/8QfwBgaUEZGukjcJgogsPkRzVPGPcbvzEi+Juf1A6gnICpnLZkqABQpFz4EFu1Z0wHdVPFK0xizasKo5hPYdcLI14r0w/bZ8oEC8Qa9/ScLMCU+J1MSfhO3G7goqyInIjUaHBq0Ndo7PzMFJ29BCzGhG7PVk8MtyOXY7sMOoL3G9uv4M7o4dVrpRNVCpyB1AYfsL7sRvYWx19mp3y0ISxi0KBc/bjMRLVL+nfu7777jHdLW1KTzO+Q/0A/AjuDQ2IfHbs8P5MD9ufdZDGAHMQtqFD4k7yGID2YHQguxE7Yf9SXoKCMnwSoZO2YwOTRZH9Y3fBuEHTbpK6teoJKzctOVmbHFot4KIigvN23vdSw9/RoU+QUNI7x/rNOkENZI78sMVzAGKbRA2SxqNHv5j93m0dTED8oCvtXoQO1J9T3rvvfR83DdHOYJ6aXygeT99Jv5bPqW/MUNRBVKDQsUqRG0Hx8kaDDlMCYnPyqbKtwyUhtoFmUL6y0VLZYavAHwv760u7KZ7KrExr6F0KoMxDxxT3ttdC//HrDtGPzU1Um7gMDixmj20v+3NDIeiSUVGNMXEgpD2qjnBco+1/7QMwLNEDUHQ/9B5rD4M+U65we+S8LI2Ovm3PMk67b7+wF3HAsp5Rw2DGv+TgyTDqkQhBXqGVotbyY4MCIw7jZSLuY9WysNGtUB0siIuR60WOPbvfjNTd7EBFUn9lX/f4hAHCCJ5UH2FtCcwafFY8Ba3SDn1SQgHVgc+BQrGlgNRehW+X3qgfSJ7fwVaRkq/msAseTJ3QCwt8Wouj3DxeAG4175N/d1KTImiCRzGGcMPP625lcCDgu8GWscRzUgOscwfTonOYIwNCVmLP410iLUHU/5eMB1p2W7FdFard60aL8o7zAWXlM5ZJ1BICe/+Gv1e9Y26jPtdNq91DPplhnIFzcgPx9UDuT0pfiID0UMG/r47UTyvOt/4c7aqdkr05DNx8ihxBTNjek99sbyluNg6JkCPhfrIX4URwft7n4GLRvYI1Am0x6ANagp00T0Rx1EYjXMJ+MrDhjXHSoSJBta3IqsrZoMpzW5lL7S5XLoMfuVFYNTIWXjVN05HQjc4d3I8t856hLYzMTVxD3i2wfPN4xEzCfxDw0dijL0Jo4a6fJhy/GpoK4VwWXDaN2j6Ff9XfZfAnUMggpy/O3Z3dfH3CT86AXgC2L+3PmDB5MNTx//G3EqJCzhOeNNL0zJReUqtyXgFt4OJP6oBUEP2RyKJ0D9ueAOyF/JQ68Bx5PdHNnC2iIAqDlZQ6NYR0lKKYTtaNeq2tfQztNRzU/J2rqj3YYPCS0xRN08wTQKE9MQKhFm/nLi2baPsPmcgrN1zxDyrvtm8qT8Vu8G7yreit9w3MrZCt5e33bvavtyCLkNPRbiHXwnxzSzPx1DnEbmOL4YpADB++kM2hcTNcAnMyNkJPpEZUcEA87gsrcuq0CKtK/FzsnNz+LtD/g9Qj/6YuNg7T7lBoz1PPJ24eLjoNV1wVupf8cX5RQCrCuIR0BTsTeLJnILufk67R3SgLQHjKGR1qY0zDPxlv3XCK/6hfTj4hTib/F2+H/6FvUL+T3vS/i9FzQxBzSmJcEhkyD7HiIpCzD4KDMZ1hICFMwaVinwNTMyiCKwDT4OagQS41bQIM3wzBDCLdkR5wfjBub1/lwU2hl6MW89/jnPJKgXVQ7t/hT63+noz3S2YrNHvF3Ited5+CIF9gMHCrQPfQzPGKwN3vw922TCo6Rfm5K1vMyK5+vuXfjo8NL8whSjIhkv4iYOHqr/4fAh7s73PwqMEdEXQw9+FcgiaToJQ/BBFC85GuEJEAHX/cP5nwOnCAAXWx87NCwfUhOTCkv8KOVI0f7cg8TcyCTYUO9i+XMWDTunL04sACk4ISIJ6AJJB2/ia8OOtJSufqgovxflL+3n9W0A7BFrGRw4hkkfM5MN5ORwyDiqNqgisQG6achC2EDkaOb48UcGbQ/EIuctYye8EPAJtwr9AtkK2wsMEA0E0wMO+cD9KhtEMjA+bjIFLVsUrhHhFh0f1BswGLMcgiGqKwoTD/6K6z7epM2Hz8vU9sqCz2nqP/6rB6oaJCA5FS4HkxQrFaoSLxVHFA/9qOEg2//HM77rth+80cY/2ODtM/ykEpMobTf8N0Aw7RoO+8Lc2cV7uS21Qr3lv0q6dbzi1DTwaRB2NLZIIk0ORYg/eSfZFG8I6/cg89num+7+6IP4AxDoIrg0bTsOQH0yASwgHt8SVhm7JOIqbCRaLSUpshTxAQf3Yehe0ULODc2pxcTE4tdc87cBLRQUGusZlRmBHvIgyBgBFc4Csu8c2dbGTLz6t2bA0sSBzkngi/Z1DJMeGS/HM5Qz8yhaE6LyMNjGyOi5yLc2uQm9776Z0/vlrPYiDUckXDhDO/s/jTBPHUYL3v2I8g7qUu5v6djuOPPbAJUPRSZTRpdPTlEpP+4wVhlaBt4C7//ZA94CrA3tEgYZWB76HLwaJRFfBqb38OSU1NbJkMyV02nbM+be6231Xft7EJIk6SsyL/slfxUK+B7kAdK8x5jGH8qO0jLYB+mW89f/ew/bGvQgWxyIFPAEm/cf6wjlU+G53NHb1th/3tviOe6k9Yn+Nwl9B+MCpP1GAtMAUQRTCcMRdBeDGawZrhBgEd8SeRgsGjYigiPRH3gejxoqG/IYwR0kGaMTLBD4D2gS8hGCF8QS5Aen+L3q3d0W0JbMUMta0CrR99W/3lDnzfaOA+oRyxlOIr0iHBz2EfUF+/i85hzdbtnX2hje/eTa6w70c/v0BaINhQ99DGUGAwGX95byrO0z683lu+MT4Hjde97A4bPrNvRa/y0KwxWjGjUe7yOSJPsiriTULMQvuStkJyoe1RFFCA0IKApHDSAUThiVHZAkcCwZKJAZqwm19w3lltONzWnNgNCd2NbhAup27jn7UggvEz8ZlBl5GDQRFQ4WBkz9EvJb463XCNFP1n/eMOrF81T6FgH+BoMQrBQlFPgOoAnbAvP7nfZq8GLsWuYB5bXir+OE6EPvRvb/+8wA+wISAPP8QADkBMAIwgrBEHEPowucB9cE+gF9/8sEagh3D1gTnhG0C+wG7ggdDc4VpRy0HegZMRNLD8cKwgiaCn8NeRDjElQZ4xdCEesIYvz67mLjNt992Q/Vv9U12mTg++lt+eUHexJDGHsahhhwEz8OhQqxBcX+Xfg487nwZfCr8sr1Lvl6/LwBgwaqBpIB/vrG9Fjs0eko6RbrIu0U7zfvAOxb7V3uIfPv+QoBbwUNCKAOHRJnFDQWNBmyGToWyxhPGu8bKRsIGxsaHBYuGaUZURu4GyghOSWkJJAfJBKFArzu6+U93zTeft4t3x3hauSo7sj0OfvFAH0GPQdABWIE0QNzBQMIpgrnCasFkP288Q3mROGe4+voXu6q8wf4X/r8/YsCPgXfA0sBkfz39Tnwc+vm6XnkMuSz5OHlEOoG7x/3SP3CCPsNFw8nCAkBK/w7/PgE8AyxFukaNh1CG8YZmxpPHFwfEyHYG38QmQZ//ur7Nv1JAU4DsAIKBIgFHwb2BNQIHAw5DZQOXw7XC2cFkAO/A8MGUgdBBmcF8PxB9Nfq6Oaz5rjsWvWD+HH9hwEyBM8CnAHP/7L8dvkP9HXvbe7G7iDvbfDS8pzz1PQ3+Jj5Kfqj+F342vSd8Xzwq+897/Hv4vPL9Hf1CvW/+Bf8Z/96Am0F6gd0CTcMtg0/E+kVuBcjFT8RVgyRCIYLgAwtEasUPxUzEoUO1w+LEGoUbRclGYoXnxZ+FU0QYA3kB20BRfwL+PTw7epF6gLp1epS8jL5cPxJ/eD8WvzW/68C9gAjAdoA/Pnk8rLwfe6r7nX0hfcZ9hr42Pok/qwClwdUCY4HZgMv+ebwsetl6pnpk+xF7xLv8e8O8Mjyi/Wz+tD/jAS6CcAOyBC1E+AWFBeAFQoU9xJiD4wMOAnSCNELshHjFSoZWxwUHPIaGhe4FcYTdBBWC9IFAP479Wnya/Fn8qb2ufwkAEIBAgPkBYIICwkZCVoIaAQCAfj72vhH9Vv2EPmh+LH43fZw9R3w1u296/HqB+vZ62ztZuwZ7yrzovUO9t/1bfOl7ivsWetz60TtJ/D28mrz6fWZ+uIAWQYmCicNIgyUCiAKoAqTCSoJ6wl9CbcKTA5+DwIPLBCqEvgTqhKzEd0P7Qz0CfUIBQhbBZsF4Aa0BswGdAk2DNUM2w57DqIMCgm8BdYCEP6o+f7zvPHU7y7xr/QG+Nj6Vvyt/mT7D/pP+Gz1fvPS8fvwdO6n77ruMO5R7tzvBvW1+H/88P3n/FD7wfxS/Zv6u/qO+kr6ePtH/SsACANvBoEJjQuQC8sKRguhCkAK0gqdCp8IRgayBgAHsgnBDeYQXRMRE6wSBBDIDVsMgwswC4kH4gK//sv9TP2M/3IE4wcBCTEH6wPa/1/+ef2R/Pf55vf/9mHzP/CP7+fv1PF69Jf1LvaZ9hj4JPlK9yH1m/Ra8sHuDO528NryMfW5+VL7+vtP/mL+E/5K//ACcQNcAroC2AGlAGoA/QGAAfwAMALLA4oG1Qg5Cz8M9AyVDSAMqgnjBn0HnwaYBYAH/AgAC7sKkArACWYJoAjyBUkEdwFiAfICWwRKBbID0wEZ/iH8I/3L/Yr+QP6//Sr6V/jZ9un1Fvfv9zX72/nW+eL5RPlZ+jD7WP3V/G79WP5x/3D+7Pyv/Gr7MvzX++X8e/wN/TH+gP2H/sH+0f+p/on+Mv4T/kH/wf6C/rb9IP70/qr/kP8hAK4CpQOqA5wDNgPrAWMAyQDsAV4CDQPIA7MDNgRKBV8FkgNqAk8CPAEkAP8AFgJVAhgE1QXcA4YAWQDIAAwAeP9dAA4BvACJAGkA5P/J/40BfwE8AQ0BxAHeARsAYQCr/vP82ftt+/f7oPy7/Mj9GgAxANf+qP3K/dD88vsr/LL9Q/+bAAoB8v8Z/2/+hv/7/4z/hv6y/sX+Pv64/0kArQAIAfYB0QD8/mz+Uf1L/qP/MAAxAf8CKQMMAwgE4QPgA08EJwSrAyUCsACU/4L/4ACrAC4BogJcA1gD4gOTA4wDXAPZAWwAt/5U/oT9P/1F/b/+cf+s/nH++/8JAvMALf8H/2f/7P77/ln9PPwU/Cf+a/7X/Ov9UP71//wATQIwApwApv/R/zD/SP1G/TD+ef7r/0kAk/+N/zAA0gFyAaoC+ALZBI0CRv8B/7D+av8z//X/Qf+X/9X/WAHjAd4CvwPkA+4DLAOBATEAJgBi/3L+qv1H/10A6f9p//8A4wFrAcUB9ADI/wQAFADH/kz+kv5R/7r/6v7P/k/+sP/A/wb/Dv+H/10A+f5W/9f+CP+x/+wASALkAX0BFAFuAD//Ef80/zj+Rf04/Xj8RPy7/eP+Uv9IAf4CzgO+A6MCNQLfAAIAnv6L/af+X//t//H+qP4A/u/9wgBRAvsDTgPFAggDLgHj/1T/Pf/e/R39fPwx/Df8kP31/qP9MP+OAZkC8wEeAWwBlwHjAgoCCQA//bH7xvtA/LP9tf1j/4YAQQB0AG0B8gKXBLAEHAMMAZ7/Nf8D/4v/Av8L/o38m/1w/9H/FgDWAE4CggPcA00BwP+UAUIDbgPGAl0C8gD5/5f/9/4OACwBgQB0/vv+FgDrAAYCDAITAYH/L/8j/6f+rP5g/xoAqQGoAUwAlf4b/vL+q/1g/cb9xP50/4D/1QCOASICIQKyAeEBYABz/un+Hf8v/5X+Qf5y/Rn9Bf5g/3sAoQKbBIQCPwFQAH0A3wCNAHj/Sf6b/hb/cQAYAXwAkP+T//4AOwCS/7z/mgAXAd3/ov6r/UX+o/zh+rf6hf3E/6UAqwE3Ab8ByQHDAK/+DP6l/a/84/wy/lL/cwAqAk4B4f9VAXYCrgCS/tv/LgE7AW4AZP8Q/2j/xf/J/gX///9WAhIDfgNfAwUCeQGnAEL/PP75/eD97f63/mP/BgFsAswBIAGeAXwB0gE5AoICgAKzAfX/IgAGAFf+ovw9/ZL9Of4jAC8BMQJ5ARMBSP8N/0L/7v4S/xL/o/9T/0P/af7D/h//Uf6n/un+bP+RAOoA2gDsAOcA4f/1ADkB2AAiAG//lABgAF8AvwC0/7z94/0Q/0wBygHLAfUAXADoAHMANQBXAHMAzf7b/pP/IADv/xX/r/6x/9AAAgDF//v/vf/0/00BFAJPAR8B3gBt/4T+Uf9JAFQAt//t/6oAlwCbAMf/KABwAX8BgP/1/VL+FABSAPH+sv9n/8z+AABQAI7/gAC3AU0BGQDo/3D/Kv/F/6z/AABy//X/qQDTAPT/GP6I/hv/bwBvAHgABwGEACIB1gGxAeAA9QAPAAwATwEiAf4AAgBu/3X/EgDNANYBkgJ4AXUBMQFpAMr/Zv4W/qn9J/0b/oT+SP99/y0AIABm/wAAaf/u/0wAyQD5/4L/vP8C/qf+Kf7e/k7/fv/5/+n/4AAzAJIA0f8MAZ4Apv6u/kX/jQAbAB8Aw/9C/8L/of8mAFcAqP9gAKMA6gGbAlYAQ/8uARUCpP+X/pcAWAKOAC7/lf8y/hn+5/2n/y4ACP/A/Hf6KQBSA1oB1f46/lgCUAPPAkoCVwLKAVUAkP+ZAcsEqADq/uH+TADE/P34MPwbAL4B3P9mAPb82Ps/AXMFPgIB/cr/XQZnA/T84/8AAyAASQBaA2D/2f3x/8YA5PuG913/BwMeAL3+jP8jAHP/KAFtAvADcgGL/j789PqG/sD/lALmAp8AN/8l/jz8Cv35AUkDEP9i/p4ARP4e//L/0QDhAosEnQMgAuEBRwN/A5j9YP3MADMAvPx9/LP+cQDfAQ4D5wEB/3P/o/5aAMUCYgTMAqX9Qv/wAVABAv+i/TAAbAGWAvACJv+O/i0AEgE9AOb/tQB+/+v9dv2YAB8CyP2n/JcAEAM/AlQAf/+M/9D/aP/m/8D/Gf9C/hf++f6HAQoC7f+XAK4AvAF7ACT/gf2H+2b9CAG4AsIAyP7h/qIBwQGW/wr/PgDf/hkA+ABd/+794vrA/If9Ff5c/uH+lP9n/Rz/NgEGAggCrgGGAbgAQwIMA68A6v9UACUA3P8vAE8CwwKxAcAANgBbAcb/Sf99AB8BzwJ8Asj/B/1O/tQAZv+C/sn/qv+tAGwBogHGAKr/GgJ+A8QCXwDz/pcAzgBRAdwBVgJYAUb/zP8tAML/Zv93ALQA6/5o/Yj8Mv19/sv+Bf4F/jf/v/86/1z/BAAvANj/vf0Y/X38L/2p/9QAPAERAbYAdgB1//f+dP92/7L/gv4x/4b/Cf/0/XH+RQBf/+P+5/68/rr+8/45AMcAsv9//xP+9P7D/uz+AQDs/1MBKACW/wMAVQGGAXYB3wGOARcBFQFqAFj/oQDzAasBev9AAL0Ayf9kAC4Amv8E/lcAkgGf/uL9cf6F/lz+e/8VAY8AZgC1AZQA+v+T/xkAOf8e/9QAgwCDAd4B0QHW/47+ZQCtAcsBAQGy/zL/w/8pATwBMAASAJgAjADB/50AQQGHANIAOgLuAdn/1v4P/w3/lv/GAMoCmQJ3AXwCZwKQAAT/0QASARkBaACd/3D/zf84AUsBXgE6ADj/s/4iANn/G/8k/lr+3/7Y/zEAQv+3//b+M//a/xkBNP9p/db9Z/7z/lH/Nf8u/sr+S/+j/sj+LQCK/2r+5f12/fP9TP2V/hUAk/+p////6/+D/rH+dv96/8f+8f/J/1f8Ov31/28ANP/j/x8AnP9SAPv/EP/1/kYBIwLiAbIAff7j/vkAnQLZAgMC6P4s/88A1AACATUBbgKxASkBrf8u/1MAwQGhAuUBdwElASABkQFLAuUCxQNuAmABSgGSAD3/z//OAfMAbgFXAmIBAQFGASMAlv+cABf/9v1N/yQAV/8J/vj9gf98ALr/+P7Y/18A4f8aAMf/Nv+j/q/+xf1f/ur/tv+H/Xn8zf5n/8X/sP+d/s7+FAByAHD/Wv5D/gT/xgAkABX/3/6U/6sABgF+Ai4Btf/R/00AMgDTALAAs//N/27/fv93/4z+Xv/6AO4ABwFr/+H9Kv8nAe4A1P4N/lD/aQD7/tj+TgBEAAQB/AA1AYMAowBOAUwA8wDG//X/cP/S/kP/Y/8JAHv/YABWAOT/3/8jAOEABgAS/+D+Fv/C/8D/kf8J/3z/VgFJAaIBHAFpApID+AGPAQUB+ADp/3cB8gHLANgAcwEqAr0BYQH8/zwBLALbAUsBqf/L/vL+LQBEAEoALABJ/7X+hAAYAScAVQHQAIn/X//5/8oAtwAK/wP/DQBmAOkAhgCu/7L+CQCqABf/+/2K/V3+nP3f/cX+s/41/2//z//i/l7+qv4R/+T+Zf8BALP+t/1m/+cANABE/6L/RgBw//r/VAAdAQEBfP/l/mf+Ev8O//T+Ev6m/fD+/v4s/7j/7ABqABcAiAHuALX/I/+b/jT+eP8YAOgAQQGrAGEBqgH/AcICBAMCAgoBiQAyAFD/IgBPARYAtv++/3oAXQFLAXAAlAAHApIBGwAlAJMAegCxAd0BzACAAPEApAH/AdgBywFPAZQB9QFhAfkAUACrAMH/of9m/wL/3/+c/+r/IACMAJsA/P8h/w3/kv+T/if+3v1l/i//Gv+O/wsA6ACQ/y3/vADj/zT+y/0h/y7/qv9cAJT/UQAVASEB/v5M/qv/3/8rAPL/hP/G/tT/gAGQAJX/W/9UAPn/Xf7C/m//nf/e/88A8v6+/Lf92f5QAKkBCwGi/jb+cwB/ACUAPQB4/2X/TwDMAEX/W/6i/3MA4v+w/63/0f9cACcAXf94/xj/Qv/F/g/+cv5h/8//BP8qAN4A+f/2/hcADwFzADAAyP8yAN8ApQBSAJ//9/87AbIBdQFiANMA/AFpAhIBdgAGAQ8A9f8xABkBvwHPAfMB9QCGATsCsAG7AKoALgDg//AANgG6ASABuwCCAbUBqgF/ACX/l/5V/jL/jQBjAXMBYQGdAOoA+gDo/wr/0P5M/xX/BgBw/4X/0wBnAH4A/wDJAIn/F/8n/3//8v99/+7+mv4O/1T/HP+W/qr+o/4u/tr9A/3q/If9JP5b/e78h/2g/ij+y/03/77/Sf+l/bf99v0p/5wAZwDB/5n/zgD1AcoBTgCqAAgB4QD0ADMBBwHtADwBhgBZANwAQAIMAZYAqwFxAUsBNwF9Af//bv/lAJ0BMwEtAa0AWQFDAVABogEtAUIAjv90ARwC2gLPAcUByQBTADwBWAHQAfz/iwA9AIj/ZP9K/+X/XP+P/xwARQAnAEv/0P9E/6L+rf49/kb+r/6L/5f+x/5Y/7X/zv5t/rH/hf9q/iT+1/4l/vv+kv/M/gz/nQC2AWUAWf9aADUBFQCN/zsATgBiAMsAbQB0ANUAfAG9ABsAZwBRAJAACwBm/5L+rP7y/sD+mf4c/zb/B//Y/gv+mv4V/9L+Mf8P/5/92P2K/sT9J/6U/vT9a/7G/ob9L/1m/j8AP//c/mL/5P5N/6v9K/6N/nT/f//I/jAA/f9vAFwAcgA3ANwAZQH+ANEAiADDAPYANwElAeQARQE0ApMCuQKFAr4CQwGMAWIC1QK+A8ICAgI0Aj0DXQIyArsBlgCAAOQAfAHIAb4B4gD2ACACdQKwAV8BugFFAM//hQAY/+L+zf+E//3/egFeADT/SP9i/3L/af9H/+X9Ufwl/KX+9f/u/mr9Mf1H/kL9Vv0Z/fz8MP39/Dn9TfzD/az+g/5L/pD+m/4D/Y78U/ys+3T8Of6z/sL9iv0Q/9v/w/9d/9L/5v8u/9v94v0XADkA1f/h/8cAtgHRAfIA/AB/At4CiQECAosCXgG6AHoBEAJUAcUCmwJRAiUDoAODArACLAQ4A9MChwH6AcUBPQFJAncBOgFMAY0BkgCeAJwCpQP3AsIAngCKACIAJwDK/5D/HQBWAdkAtwBTAUAA4//bAAQB1wDU/zP+9P0Q/zr/0P81AI0AEAGl/+b/5/+T/yIAWwDb/of9k/5x/iD+A//n/5sAFQAMAGb/7f0L/6v/Ev/a/g4AIP85/dn9K/7C/pH+pv6O/jb+Lf8G/7n+8/7I/7v/9P1r/ff9wf2W/GH8wfyl/cD97fzh/Qv+d/4x/tj+cf8b/h39dvx7/P387/6E/ur9tP5t/2n/D/9J/yb/k/+B/9X+PP7K/oz/aP8p/y0ADwGPANgAHAExAUUBrgHOAZkARwCVAckBMADk/+8AKgHYAWwCyQEdAaEB3QHcALkB/AHLAE0AygFoAvUAPgCrAewC2wJgAkwBjgFfAf4BvAE1AvsCAQKzAQECQgKWAfcBiQHtAQMCqwFUAXsApwCQAU8CUwFSAVsBxgFRAIn/wv/Q/zoAiv+b/5z/cQChANAA0gATAbr/7/5r/9j+9/5n/+T/Z/4T/qf9/fxu/Vn+T/6w/Zv+2v4Z/gb9s/14/eD8If08/eP8bPw2/ab++/7z/Sf9ofwl/pb+tf4J/4T+vv8T/6H+Kv/U/53/tv8vAYIA/ABqAUwCDQNXApABPwFIAmwCwQEyASQC9QLTApIDmgPrAq4CagPuAmIB6wFjAcgAvwEgAgcC+QHvAvUDswMvA7ICJgFzAJcBLAL+ABkBowFfAWMAGwFBAkABdQH9ASECkwBA/3D/2P+0/zn//v50/xcAXQBl/+X+z/+/AJj/af78/nz+Vv/t/o/+hP5t/ib+xv1y/pv9I/7M/iX+7/64/yT+UP39/SH+QP7I/g/+Kv0B/hL/h/4O/oH/CwD1/z0AhP84/gP+5/1J/dv9OP+b/+f+j/8bAHMADQGOAAUA9P+h/2f/bP/M/vT/dQAiALT/+v88Af4AawAdACMAEwB3ADv/Mv40/60A6QDS/sj+mv89/9T/xADJANT/x/+GAB4Alf/+/1cAnf+D//H/O/+c/8H/3v8hAFEBXwF2/10AIADq/2wAZABm/xj/KQE2AUoBTgG3AS8CCwHjAKYArQBuAR4CZwGSAAgBRgG2AT0BvwARAjoCpgHvAQQC5gGuAbkBkwDFALYBaAEoAaEB8AHiAD4B1AETAloC3gGtAF3/5f+MAF4Ay/9R/4AA//+c/3H/3/+rAFT/Kv5L/SL+Ef7b/YH9efxK/En9jP4+/kn+F/7o/Xj+rv48/zz/9P57/vT9pP7J/lf/Of98/zkAMQAGAMcAWAH0/1MAUAHQAfMBtAEXAQgB8wGEAVoBGALvAVACQgJwAtMCsQICBO8DYAMuA6UCDAI4AlECKAJxAn8CZQFjAdUC8QK7AWoBwAGvAEEAgf8FALn/bwBVAbkADgGfANYAnf9YAEEAX/8FAHz+U/4U/dz8c/zJ/Pj9y/0d/lv9A/7G/bz+J/8/AIMAu/8kAD8AjACoAAwCiwK1AED/FgCm/xwAaf8x/6f/BgCq/+D+nv////D/Xf/g/27/x/8QAD0ABgDDAKABPgKiAsABygBJAKQAYwDJAKUAp/+g/qT/u/+k/+YA9//5/rD+I//J/jP+PP8IAEz/Rv+4/zL/ff4R/sH+iv6K/u3+8v6H/pP+Bv6j/Wz/0P/K//H/XQCqAMf/5P95AMn/u/8GAQMBWf83/30AoAA3AIwAAQFHAOP/rQBwAbcAfgAmACT/j//T/wAAof9kAGUAqQBIAQkBQgFvASYBdQC0AMoAQQHhAAkAov8TAKEA0QCSAHcA1wHpAUoBLwJlAuEB+QDc//z+Vv8ZAOP/7f8bAAwAMwBGAU0ACACaANUAzgC4/8b/qf+m/zD/4f4M/+D/W//t/j8AGQD6/8r/Qv/q/jD/yP7q/cr+mv9U/yX/eP9QAHIAW/92/9X/Av/Z/vP/4v/O/aL+fv9p/vf+SwA2/wT+AwAWAPb+mP5z/2n/jP+K/8L+6P7E/4IAg/+x/0r/Nv/I/ub92f7p/2wASABM/979A/7K/vP+qv5sAJ0AX/8k/43/LQEcAVMB9wDNAIP/HgBPAYsBUAF1AaUB5/6G/q79R//cAGQB/gAWAIH+s/5a/4MAfQMnAuoAl/+ZAI8A7wE4A00CBwIxAqwBGv/w/hD/6f4F/yEA7AATAdABiwCy/0sBngK2A+kCpAGm/4r+YP6y/dH+zf///2AAVAH2AJ8A7v8M/+P9lv5d//P+8/9s/4z/rP/bAMkA+gBlAuYB0wAc/yX/dv+t/3L+dv1E/or/DP8e/gD+J/5L/6v/6v5p/lX+L/7A/Vz9BP4t/t7/pgB9/67+Yv/n/j3/yQB8AB7/v/7pADsBSAFCAHP/6P7Y/zMBigH4AFsA+AGiAjYDOgJrAdsBYwFLAAQAgwBjAFQARv+H/sn/xABNAcAAMADgAPMA9P+v/p3+Hv+6/87/CABoAa0B7QHXAV8Arv+2ALQApQBlARgC7QD8/xYBqQAnAQACagLjAD0A8ACLAYQBUQChAN8AFwEtAegBqQDGAKQBSgCF/wQBIQPCASgBdABsAB8BgACC/4b/sf+9/+v/If8z/17+I/7M/VT9zP6U/zD/sv2Z/Sn+5v2P/jj+d/zI/Nn9wfwk/N78m/2K/XX9Q/1O/bv91/1a/cH9kf4W/of9cvxV/DD91/3h/pf+1P4P/3r+df4w/gz/Tv+NAOsBtQE/ADT/mAA/AqwD2QJbAh0CGAJhAxwEbgRqBOMFYQZOBloG8QXHBNQDgQSVBN0DMgOrAhADgASpAxoD6QNFBDkDggHUAO3/JACr/2D+Jf5D/mz/KgD0/8z/Y/8u/1P+cf5r/vr9IP3G/Br99Pwd/iz97vwU/Q7+Kf4x/ev93P1V/Y38Pv16/W3+l/61/Yj9Df5n/rD+fv++/3sAy/8lACgBzwHMAFwANQJ5AmwB6wDZAWUB9AANAdQBewHqAFABPAFWAR0BXAHnAND/bP/d/97/wP+O/0f/TP92ADkBnwBbAJEAOwCL/0D/7v4S///+iP9q/5X/hgBP/0D/Yv8Q/7z+mv0i/k3+Nf58/Vv9bf1Z/Wf+av/B/6n+bf62/lb+4/7+/yQAAAAfAJwAnAAOAaoBQAEnAeUBTgEdASgCngHoABcByQKqAwQDnQJWAZQAFAA5AEAAyP9rAWoB6QAoAWUBOgKvAOf+HP/HAIMAcf8oAFYAWgDW/wABugCZAGEBQgA+AGQA7P9P/5EAUwDu/gr/5P7x/oL/EQCgAGcAgP8R/x3/mf6x/R/9z/2H/mL+0v20/Yv95/zu/VX+uf6V/nD+5v0u/QD+Wf7p/iD/zv6w/U/9eP5B/vT91v4OANv/Xf8v/yv/tQBxAHoBcgJDAZP/yv9XALAAqgI2AxkD4QOjBPUCNQMfBPUEjARIBfkEcQMbBBIDHQT7A0YDwgKjAisDdgPvA2ICDgJvAjABCQDgAB8BPf+k/gb/3f5g/lT+aP0s/VX/pP8//n39f/3m/VP+5P0Y/Zj8GP3w/HH8m/zr+wn9pPx3/Dj93P2y/c782P15/Tj+NP4r/W/8MP0P/nf+8f8UAGoAPAHGAUQBzAGkAcsBvAMwBFcCTgKoA9MDdANlA/UD3wN+BIYDwgLRApkCFgKnAf0BKQLFAOf/HP8n/xMAwP6D/dP8rf2+/dn+s/7B/QD+9/2T/dP8X/1V/Sb9Hf6X/vv95f2z/ZL+SP6s/uf+I/4L/tn+TQCc/6j+h/3C/kz/p/9CABkAXAGFAScCtQHyANMALwAHAA4B8ALbAg4CJAPIAo4BUwEKAroCwgHOAeEBkQGNAUkBbQATAHoA6QABADsAxgFxAEz/ef/6/0QA+f8IAFv/L//P/2AAfADR/jf/v/+m/sr/twCRAPX/Zv62/eD9rv66/vL9tv0y/23/4/5p/zr/aP7E/QX+Qv5V/4//WP86//L/EgAXAHn/e/4oAOMAIwHgAJsAmADpAAsBeACYAOb/+//4/1EBKQL6AMUATQAhAaEBewHYAd4A+P+pANQAgv+9/rn/zv8UAO0AvADOAKsALwAsAMYAnAAK/1j+Lf/U/x7/Qf8IAKf/i/9K/64A5AA0APP+X/4Q/+b/8QBm/nb+AgC6/0H/W//j/4P/PgCdADgAPQEkASUAvf+X/5oAGAFKAGcAUwHbAawBXQFUAYUBNAI8AiQCyQEdArsBhwAtAAQBoQDM/ygAlf/bAFICoAGl/1oAywBl/wz/ff6p/7z/h/88/1H+eP5h//X/vf43/5n/FgCnAF3/tv5U/w4AcACi/6D+y//u/67/0f/h/xP/6v5f/0n/kP9X/+T/Qf+i/yr/x/77/RP+UP/f/rT/mP/X/2j/9P+WADgAqf95/3j/2v/X/8r/UQD1/6gAkABlAOMAMAGCACYAeQDZAJIAo/9j/93/uwD/AMEACgHiAI4ABwFmAKj/4/+5AK0A9gAxARsAZwAyALj/Uv+E/pL+mv7B/xEA1f/n/0EALwG1/8f+pf0c/rX/gP8rAFr/lv9fAAwBqgCb/wcA8f+gALcA1//n/8AALQFiANUAvQDa/xsAwgBFAVAA6P/F/7wAOAHGAL//LABkAZcAsf/b//j/PwCPAMn/SQCRAFsA/P8EAcUAwP+X/4IA6wDQ/yIAgACVABkAJgCW/7L/hv/S/jX/RgCb/8f+x/4U/2P/Af+M///+zf5T/eX8b/1u/tz+av4p/9z/vf8u/8b/AwDc/8v/T/5H/uf/1/8lAFkAFAG8AIgAzP9CAL0BnACbACQBoAHsAGAAqgAuAKUA4gGaAcIALQCHAKAAdwC5AMoAaQAMAMwAdQAsASgBDABnAGoAKwGJALf/6gASAToAbAD/ACr/Tv9jAPr/y/+c/47/+v68/gH/r/9Z/5P/kf7R/ZL+l/8EAO3+1f4d/3f+7/0z/wr/G/7F/cP+Uv9j/kz/5P7R/r7/uf95/zD/BgAQ/yD/XQAaABUAMwC7ANsA3QAXAaMBGgKIAkoCjwICAm8BtAKJAvIBvgIDAx8CYgKQAasATQGGAdoARQBdADMAEADM/xz/zv/r//f/8P11/UH/c/6J/iX+Nf4W/R/94f3Y/ZD97f4Z/03/r/9v/uX9x/2q/2H+5P3//Yv/wv/D/1wAq/93/wf/FwB4APgAfQCRABAANABuAe4B6gHBAKn/zAAnAi8CcAHIAIgB4wEWAssB8gFRAqkBUQFSAcYA0QBmASICJQHvABwBHwG/AXIBFAFEAAQBowAE/3z/KwFuABX/i/9TALr/4v7A/q7+lf9tAEQAgf4u/4gA+gDbAJr/BgA+/2r/hf/t/8f/nf/aAG4ArAC//3//Uf7r/nr+jv0t/08Aiv97/Zr/NADx/h/+y/5A/qf9+P3k/Ub+cP6K/v79v/2t/u//yf46/uf+yf+a/qr9Qv43/xAAcgCTAYYAmQB3AfYAyv/C/6MA5QCFAcAAUAA+AfIBJgHK/yIAOgH/AMP/4v6y/10AyP9h/47/kf85/0n+JP5z/nX+S/60/D/9IP7d/vz+yv+TAC8BAgGoANIAeP+6/1b/Sv+E/or/KQDs////BQAsATUBhwEfAesA3v+i/9cATwCY/0X/l/9PAK4Aov8g/ygAGAD2AOAAegAHALz/BgDd/50A9v////L/WgAKAYoAbgAvAPcADAKFAVABCQJ4AtIBXQEoAkkCXQMEA0YCWwKPAsQCMwITAo8BlgHNAYoCCAIqAYYA/f+S/5D9n/2M/qv+Sv7k/QD+qf3i/Qn+MP3x/Av9Av1u/f39vf6x/rf+kf+0AF8BVgENAqUB9QFLA6wCiQKDAlsC1wE5AicDQgJdARMCzAIXAtABzgDE/0X/s/84/679bf2L/q3/E/6M/jj/qP4o/l7+JP9j/vP+oP4R/5sArAEGAYn/LgGdAv4BoQFtAc4BWwHZAFUBrAA3ARYBnwDn/q7+xv8Q/07+gP15/mn+0/2P/c79kf6l/gP+wv1j/ZD9D/7C/eL9/P7u////vwAKAfkACwEhASIB0gDl/3EAeQBJ/23/6P9w/3n/awBTAY8BoAB6AU0BMADN/yoAqgA+AFEAvP/g/3QABgEAAj8BkQFOArMCxAFu/08AhQBqAG4A4/+P//b/TACV/nv/RQE3ACL+Mv/IAG7/l/4J/s790v05/iD+of2g/rX++P69/qb+5/4J/wMA8v9L/7j96v3X/r3+6f4DAG8Awf9w//b/dAB0AaQBhgBoABAAcgARAMkAcADNAJUB0wB8AIH/lgCqASgCUgEVAWkB6QAyATUB7wBSAPEAawEgAK3/8f9rAFoAugDN/7H+EP9o/sD/JwGkAPb/+/+//z4AcABJABUAAACNAC4Aev/L/8kBgwHnAMAAqv/+/hYAYwHOAUQBDwH1AEcA5AGPAWEAT//G/7UA/P+k/x3/Zv/S/+AA1gAyAeQAiQDmAIIA0f+j/n3+lP5g/wn/Fv9eALcA9f+a/7EARwB1//H/iv8F/7j+Yf6B/a79wv5Y/7//tf8AAMz+Sv6e/s3+Bf+7/mT+/v7z/zYAi/+g/qr/CwBw//v+1v/XAKYBywAhACUB8ABaAcAA9gBAAXABdgEhAboBtQLdAhEB6AD2AZMC9gGFAIwAegGmAesB6gASAOH/dAAEAXwAPQDy/lj+/v4JADv/Lv9Q/wH/Cv8q/sf9Jv4V/xD/Gv+6/on9QP2w/ZL9Ov4H/v39MP3D/eT+cP6Q/oL9ov2w/UT/Mf9T/rX+Iv5+/hP/YP/6/h4ANgBq/wkAUwADAJb+Qf8pANX/4P9V/4v/ggCtAasA8/8jAcYB5wFuAQ4BzQCkALEA6ADoAMwBEgIuAiECXQHTAdUBKAIaAokBMAGwAYUBrf/W//UAxwEnAVAA4gDIAB4BBAAu/7//3f6o/jb+Qv4y/kH/zf4H/f39l/7K/lL+jP6j/W791P1x/fH9ef5w/vf9zv0B/lb+rf6Y/nb+pf+8/xIATP/j/9QAZP+A/6X/rQDjAO8AWgBmAFQBTAAXAUQBKwG0AaMARP/4/sEAMAFfALP/HQAQAekAuwC3AEEBLQG8AGQA4gDoALMAMwGvAEcAawG3AtoCMgJUAbwB/gHdAVkAUgByAAP/if+t/wYAOgBwAMb/GgDfADkAEf8x/tv+hv7I/Q3+4P2B/cT9Vf7j/lf/Z/8x/gf/zv+5//T+0f0i/u/9R/9d/wf/\" type=\"audio/wav\" />\n",
       "                    Your browser does not support the audio element.\n",
       "                </audio>\n",
       "              "
      ],
      "text/plain": [
       "<IPython.lib.display.Audio object>"
      ]
     },
     "execution_count": 6,
     "metadata": {},
     "output_type": "execute_result"
    }
   ],
   "source": [
    "import IPython.display as ipd\n",
    "import random\n",
    "\n",
    "# 데이터 선택\n",
    "rand = random.randint(0, len(speech_data[\"wav_vals\"]))\n",
    "print(\"rand num : \", rand)\n",
    "\n",
    "sr = 8000 # 1초동안 재생되는 샘플의 갯수\n",
    "data = speech_data[\"wav_vals\"][rand]\n",
    "print(\"Wave data shape : \", data.shape)\n",
    "print(\"label : \", speech_data[\"label_vals\"][rand])\n",
    "\n",
    "ipd.Audio(data, rate=sr)"
   ]
  },
  {
   "cell_type": "markdown",
   "metadata": {},
   "source": [
    "# Train/Test 데이터셋 구성하기\n",
    "## Label data 처리\n",
    "- 현재 단어의 정답은 Text 형태로 이뤄져있습니다. 학습을 위해서는 Text 데이터를 학습가능한 형태로 만들어줘야 합니다.\n",
    "\n",
    "- 아래는 구분해야할 label 목록입니다.\n",
    "\n",
    "- ['yes', 'no', 'up', 'down', 'left', 'right', 'on', 'off', 'stop', 'go' ]\n",
    "\n",
    "- 이외 데이터들은 'unknown', 'silence'로 분류되어 있습니다."
   ]
  },
  {
   "cell_type": "code",
   "execution_count": 7,
   "metadata": {},
   "outputs": [
    {
     "name": "stdout",
     "output_type": "stream",
     "text": [
      "✅\n"
     ]
    }
   ],
   "source": [
    "target_list = ['yes', 'no', 'up', 'down', 'left', 'right', 'on', 'off', 'stop', 'go']\n",
    "\n",
    "label_value = target_list\n",
    "label_value.append('unknown')\n",
    "label_value.append('silence')\n",
    "\n",
    "new_label_value = dict()\n",
    "for i, l in enumerate(label_value):\n",
    "    new_label_value[l] = i\n",
    "label_value = new_label_value\n",
    "print(\"✅\")"
   ]
  },
  {
   "cell_type": "markdown",
   "metadata": {},
   "source": [
    "- Text 이루어진 데이터를 학습에 사용하기 위해서 index 형태로 바꿔주는 작업을 하겠습니다.\n",
    "- int로 이뤄진 index 작업을 통해서 Label data를 더 쉽게 사용할 수 있습니다."
   ]
  },
  {
   "cell_type": "code",
   "execution_count": 8,
   "metadata": {},
   "outputs": [
    {
     "name": "stdout",
     "output_type": "stream",
     "text": [
      "✅\n"
     ]
    }
   ],
   "source": [
    "temp = []\n",
    "for v in speech_data[\"label_vals\"]:\n",
    "    temp.append(label_value[v[0]])\n",
    "label_data = np.array(temp)\n",
    "print(\"✅\")"
   ]
  },
  {
   "cell_type": "markdown",
   "metadata": {},
   "source": [
    "# 학습을 위한 데이터 분리\n",
    "- sklearn의 train_test_split 함수를 이용해 train data와 test data를 분리하겠습니다.\n",
    "- test_size의 인자를 조절해주면, 설정해 준 값만큼 Test dataset의 비율을 조정할 수 있습니다."
   ]
  },
  {
   "cell_type": "code",
   "execution_count": 9,
   "metadata": {},
   "outputs": [
    {
     "name": "stdout",
     "output_type": "stream",
     "text": [
      "[[ 3.84681462e-03  5.41604869e-03 -4.88537422e-04 ...  1.10581955e-02\n",
      "   9.14451759e-03  6.83238776e-03]\n",
      " [ 1.43336720e-05 -2.86683626e-05  1.84497003e-05 ... -6.66017819e-04\n",
      "  -6.47854584e-04 -6.25784334e-04]\n",
      " [ 3.63122043e-03  5.28003415e-03  5.72627410e-04 ...  1.95297832e-03\n",
      "   1.36161805e-03 -2.44847802e-03]\n",
      " ...\n",
      " [ 5.10951795e-04  2.26395461e-03  2.13973271e-03 ...  3.18003190e-03\n",
      "   2.85411999e-03  3.56033933e-03]\n",
      " [ 9.65541694e-03  1.62772555e-02  1.78671759e-02 ...  1.48787647e-02\n",
      "   1.79679338e-02  1.93661414e-02]\n",
      " [ 1.69983110e-03  3.94341582e-03  4.89243120e-03 ...  7.41835684e-04\n",
      "  -1.72549242e-03 -3.35790263e-03]]\n",
      "✅\n"
     ]
    }
   ],
   "source": [
    "from sklearn.model_selection import train_test_split\n",
    "\n",
    "sr = 8000\n",
    "train_wav, test_wav, train_label, test_label = train_test_split(speech_data[\"wav_vals\"], \n",
    "                                                                label_data, \n",
    "                                                                test_size=0.1,\n",
    "                                                                shuffle=True)\n",
    "print(train_wav)\n",
    "\n",
    "train_wav = train_wav.reshape([-1, sr, 1]) # add channel for CNN\n",
    "test_wav = test_wav.reshape([-1, sr, 1])\n",
    "print(\"✅\")"
   ]
  },
  {
   "cell_type": "markdown",
   "metadata": {},
   "source": [
    "나눠진 데이터셋을 확인해 보겠습니다."
   ]
  },
  {
   "cell_type": "code",
   "execution_count": 10,
   "metadata": {},
   "outputs": [
    {
     "name": "stdout",
     "output_type": "stream",
     "text": [
      "train data :  (45558, 8000, 1)\n",
      "train labels :  (45558,)\n",
      "test data :  (5062, 8000, 1)\n",
      "test labels :  (5062,)\n",
      "✅\n"
     ]
    }
   ],
   "source": [
    "print(\"train data : \", train_wav.shape)\n",
    "print(\"train labels : \", train_label.shape)\n",
    "print(\"test data : \", test_wav.shape)\n",
    "print(\"test labels : \", test_label.shape)\n",
    "print(\"✅\")"
   ]
  },
  {
   "cell_type": "markdown",
   "metadata": {},
   "source": [
    "# Hyper-parameters setting\n",
    "- 학습을 위한 하이퍼파라미터를 설정해줍니다.모델 체크포인트 저장을 위한 체크포인트의 경로를 설정해줍니다.\n",
    "- 후에 모델 체크포인트 Callback 함수를 설정하거나, 모델을 불러올때 사용합니다.\n",
    "\n"
   ]
  },
  {
   "cell_type": "code",
   "execution_count": 11,
   "metadata": {},
   "outputs": [
    {
     "data": {
      "text/plain": [
       "'/home/aiffel0042/aiffel/speech_recognition/models/wav'"
      ]
     },
     "execution_count": 11,
     "metadata": {},
     "output_type": "execute_result"
    }
   ],
   "source": [
    "batch_size = 128\n",
    "max_epochs = 10\n",
    "\n",
    "# the save point\n",
    "checkpoint_dir = os.getenv('HOME')+'/aiffel/speech_recognition/models/wav'\n",
    "\n",
    "checkpoint_dir"
   ]
  },
  {
   "cell_type": "markdown",
   "metadata": {},
   "source": [
    "# Data setting\n",
    "- tf.data.Dataset을 이용해서 데이터셋을 구성해주겠습니다.\n",
    "- from_tensor_slices 함수에 return 받길 원하는 데이터를 튜플 (data, label) 형태로 넣어서 사용할 수 있습니다.\n",
    "\n",
    "- map 함수는 dataset이 데이터를 불러올때마다 동작해주는 일종의 데이터 전처리 함수입니다.\n",
    "- 첫번째 map 함수는 from_tensor_slice 에 입력한 튜플 형태로 데이터를 받으며 return 값으로 어떤 데이터를 반환할지 결정합니다.\n",
    "- map 함수는 중첩해서 사용이 가능합니다."
   ]
  },
  {
   "cell_type": "code",
   "execution_count": 12,
   "metadata": {},
   "outputs": [
    {
     "name": "stdout",
     "output_type": "stream",
     "text": [
      "✅\n"
     ]
    }
   ],
   "source": [
    "def one_hot_label(wav, label):\n",
    "    label = tf.one_hot(label, depth=12)\n",
    "    return wav, label\n",
    "print(\"✅\")"
   ]
  },
  {
   "cell_type": "markdown",
   "metadata": {},
   "source": [
    "## tf.data.Dataset 함수를 구성하겠습니다.\n",
    "- batch는 dataset에서 제공하는 튜플 형태의 데이터를 얼마나 가져올지 결정하는 함수입니다.\n"
   ]
  },
  {
   "cell_type": "code",
   "execution_count": 13,
   "metadata": {},
   "outputs": [
    {
     "name": "stdout",
     "output_type": "stream",
     "text": [
      "<BatchDataset shapes: ((None, 8000, 1), (None, 12)), types: (tf.float32, tf.float32)>\n",
      "<BatchDataset shapes: ((None, 8000, 1), (None, 12)), types: (tf.float32, tf.float32)>\n",
      "✅\n"
     ]
    }
   ],
   "source": [
    "import tensorflow as tf\n",
    "\n",
    "# for train\n",
    "train_dataset = tf.data.Dataset.from_tensor_slices((train_wav, train_label))\n",
    "train_dataset = train_dataset.map(one_hot_label)\n",
    "train_dataset = train_dataset.repeat().batch(batch_size=batch_size)\n",
    "print(train_dataset)\n",
    "\n",
    "# for test\n",
    "test_dataset = tf.data.Dataset.from_tensor_slices((test_wav, test_label))\n",
    "test_dataset = test_dataset.map(one_hot_label)\n",
    "test_dataset = test_dataset.batch(batch_size=batch_size)\n",
    "print(test_dataset)\n",
    "print(\"✅\")"
   ]
  },
  {
   "cell_type": "markdown",
   "metadata": {},
   "source": [
    "# Wave classification 모델 구현\n",
    "## Model\n",
    "- Audio 데이터는 1차원 데이터이기 때문에 데이터 형식에 맞도록 모델을 구성해주어야 합니다.\n",
    "- Conv1D layer를 이용해서 모델을 구성해보겠습니다.\n",
    "- Conv, batch norm, dropout, dense layer 등을 이용해 모델을 구성해보도록 하죠."
   ]
  },
  {
   "cell_type": "code",
   "execution_count": 14,
   "metadata": {},
   "outputs": [
    {
     "name": "stdout",
     "output_type": "stream",
     "text": [
      "Model: \"functional_1\"\n",
      "_________________________________________________________________\n",
      "Layer (type)                 Output Shape              Param #   \n",
      "=================================================================\n",
      "input_1 (InputLayer)         [(None, 8000, 1)]         0         \n",
      "_________________________________________________________________\n",
      "conv1d (Conv1D)              (None, 8000, 32)          320       \n",
      "_________________________________________________________________\n",
      "conv1d_1 (Conv1D)            (None, 8000, 32)          9248      \n",
      "_________________________________________________________________\n",
      "max_pooling1d (MaxPooling1D) (None, 4000, 32)          0         \n",
      "_________________________________________________________________\n",
      "conv1d_2 (Conv1D)            (None, 4000, 64)          18496     \n",
      "_________________________________________________________________\n",
      "conv1d_3 (Conv1D)            (None, 4000, 64)          36928     \n",
      "_________________________________________________________________\n",
      "max_pooling1d_1 (MaxPooling1 (None, 2000, 64)          0         \n",
      "_________________________________________________________________\n",
      "conv1d_4 (Conv1D)            (None, 2000, 128)         73856     \n",
      "_________________________________________________________________\n",
      "conv1d_5 (Conv1D)            (None, 2000, 128)         147584    \n",
      "_________________________________________________________________\n",
      "conv1d_6 (Conv1D)            (None, 2000, 128)         147584    \n",
      "_________________________________________________________________\n",
      "max_pooling1d_2 (MaxPooling1 (None, 1000, 128)         0         \n",
      "_________________________________________________________________\n",
      "conv1d_7 (Conv1D)            (None, 1000, 256)         295168    \n",
      "_________________________________________________________________\n",
      "conv1d_8 (Conv1D)            (None, 1000, 256)         590080    \n",
      "_________________________________________________________________\n",
      "conv1d_9 (Conv1D)            (None, 1000, 256)         590080    \n",
      "_________________________________________________________________\n",
      "max_pooling1d_3 (MaxPooling1 (None, 500, 256)          0         \n",
      "_________________________________________________________________\n",
      "dropout (Dropout)            (None, 500, 256)          0         \n",
      "_________________________________________________________________\n",
      "flatten (Flatten)            (None, 128000)            0         \n",
      "_________________________________________________________________\n",
      "dense (Dense)                (None, 256)               32768256  \n",
      "_________________________________________________________________\n",
      "batch_normalization (BatchNo (None, 256)               1024      \n",
      "_________________________________________________________________\n",
      "activation (Activation)      (None, 256)               0         \n",
      "_________________________________________________________________\n",
      "dense_1 (Dense)              (None, 12)                3084      \n",
      "=================================================================\n",
      "Total params: 34,681,708\n",
      "Trainable params: 34,681,196\n",
      "Non-trainable params: 512\n",
      "_________________________________________________________________\n"
     ]
    }
   ],
   "source": [
    "from tensorflow.keras import layers\n",
    "\n",
    "input_tensor = layers.Input(shape=(sr, 1))\n",
    "\n",
    "x = layers.Conv1D(32, 9, padding='same', activation='relu')(input_tensor)\n",
    "x = layers.Conv1D(32, 9, padding='same', activation='relu')(x)\n",
    "x = layers.MaxPool1D()(x)\n",
    "\n",
    "x = layers.Conv1D(64, 9, padding='same', activation='relu')(x)\n",
    "x = layers.Conv1D(64, 9, padding='same', activation='relu')(x)\n",
    "x = layers.MaxPool1D()(x)\n",
    "\n",
    "x = layers.Conv1D(128, 9, padding='same', activation='relu')(x)\n",
    "x = layers.Conv1D(128, 9, padding='same', activation='relu')(x)\n",
    "x = layers.Conv1D(128, 9, padding='same', activation='relu')(x)\n",
    "x = layers.MaxPool1D()(x)\n",
    "\n",
    "x = layers.Conv1D(256, 9, padding='same', activation='relu')(x)\n",
    "x = layers.Conv1D(256, 9, padding='same', activation='relu')(x)\n",
    "x = layers.Conv1D(256, 9, padding='same', activation='relu')(x)\n",
    "x = layers.MaxPool1D()(x)\n",
    "x = layers.Dropout(0.3)(x)\n",
    "\n",
    "x = layers.Flatten()(x)\n",
    "x = layers.Dense(256)(x)\n",
    "x = layers.BatchNormalization()(x)\n",
    "x = layers.Activation('relu')(x)\n",
    "\n",
    "output_tensor = layers.Dense(12)(x)\n",
    "\n",
    "model_wav = tf.keras.Model(input_tensor, output_tensor)\n",
    "\n",
    "model_wav.summary()"
   ]
  },
  {
   "cell_type": "code",
   "execution_count": null,
   "metadata": {},
   "outputs": [],
   "source": [
    "tf.keras.utils.plot_model(model_wav, './Wav.png', show_shapes=True)"
   ]
  },
  {
   "cell_type": "markdown",
   "metadata": {},
   "source": [
    "# Loss\n",
    "- 현재 라벨이 될 수 있는 12개의 단어 class를 가지고 있습니다.\n",
    "- 해당 class를 구분하기 위해서는 multi-class classification이 필요하며, 이를 수행하기 위한 Loss로 Categorical Cross-Entropy loss를 사용하겠습니다.\n",
    "\n"
   ]
  },
  {
   "cell_type": "code",
   "execution_count": 15,
   "metadata": {},
   "outputs": [
    {
     "name": "stdout",
     "output_type": "stream",
     "text": [
      "✅\n"
     ]
    }
   ],
   "source": [
    "optimizer=tf.keras.optimizers.Adam(1e-4)\n",
    "model_wav.compile(loss=tf.keras.losses.CategoricalCrossentropy(from_logits=True),\n",
    "             optimizer=optimizer,\n",
    "             metrics=['accuracy'])\n",
    "print(\"✅\")"
   ]
  },
  {
   "cell_type": "markdown",
   "metadata": {},
   "source": [
    "# Training\n",
    "## Callback\n",
    "- model.fit 함수를 이용할 때, callback 함수를 이용해서 학습 중간 중간 원하는 동작을 하도록 설정할 수 있습니다.\n",
    "- 모델을 재사용하기위해서 모델 가중치를 저장하는 callback 함수를 추가해보겠습니다.\n",
    "- Model Checkpoint callback은 모델을 학습을 진행하며, fit 함수내 다양한 인자를 지정해 모니터하며 동작하게 설정할 수 있습니다.\n",
    "- 현재 모델은 validation loss를 모니터하며, loss가 낮아지면 모델 파라미터를 저장하도록 구성되어 있습니다."
   ]
  },
  {
   "cell_type": "code",
   "execution_count": 16,
   "metadata": {},
   "outputs": [
    {
     "name": "stdout",
     "output_type": "stream",
     "text": [
      "✅\n"
     ]
    }
   ],
   "source": [
    "cp_callback = tf.keras.callbacks.ModelCheckpoint(checkpoint_dir,\n",
    "                                                 save_weights_only=True,\n",
    "                                                 monitor='val_loss',\n",
    "                                                 mode='auto',\n",
    "                                                 save_best_only=True,\n",
    "                                                 verbose=1)\n",
    "print(\"✅\")"
   ]
  },
  {
   "cell_type": "code",
   "execution_count": 17,
   "metadata": {},
   "outputs": [
    {
     "name": "stdout",
     "output_type": "stream",
     "text": [
      "Epoch 1/10\n",
      "  2/355 [..............................] - ETA: 1:07 - loss: 2.4657 - accuracy: 0.1133WARNING:tensorflow:Callbacks method `on_train_batch_end` is slow compared to the batch time (batch time: 0.1254s vs `on_train_batch_end` time: 0.2575s). Check your callbacks.\n",
      "355/355 [==============================] - ETA: 0s - loss: 1.4079 - accuracy: 0.5366\n",
      "Epoch 00001: val_loss improved from inf to 1.26870, saving model to /home/aiffel0042/aiffel/speech_recognition/models/wav\n",
      "355/355 [==============================] - 137s 385ms/step - loss: 1.4079 - accuracy: 0.5366 - val_loss: 1.2687 - val_accuracy: 0.6432\n",
      "Epoch 2/10\n",
      "355/355 [==============================] - ETA: 0s - loss: 0.8352 - accuracy: 0.7463\n",
      "Epoch 00002: val_loss improved from 1.26870 to 0.94004, saving model to /home/aiffel0042/aiffel/speech_recognition/models/wav\n",
      "355/355 [==============================] - 131s 368ms/step - loss: 0.8352 - accuracy: 0.7463 - val_loss: 0.9400 - val_accuracy: 0.7033\n",
      "Epoch 3/10\n",
      "355/355 [==============================] - ETA: 0s - loss: 0.6090 - accuracy: 0.8199\n",
      "Epoch 00003: val_loss improved from 0.94004 to 0.73386, saving model to /home/aiffel0042/aiffel/speech_recognition/models/wav\n",
      "355/355 [==============================] - 131s 368ms/step - loss: 0.6090 - accuracy: 0.8199 - val_loss: 0.7339 - val_accuracy: 0.7636\n",
      "Epoch 4/10\n",
      "355/355 [==============================] - ETA: 0s - loss: 0.4716 - accuracy: 0.8651\n",
      "Epoch 00004: val_loss improved from 0.73386 to 0.53885, saving model to /home/aiffel0042/aiffel/speech_recognition/models/wav\n",
      "355/355 [==============================] - 131s 368ms/step - loss: 0.4716 - accuracy: 0.8651 - val_loss: 0.5389 - val_accuracy: 0.8329\n",
      "Epoch 5/10\n",
      "355/355 [==============================] - ETA: 0s - loss: 0.3622 - accuracy: 0.9018\n",
      "Epoch 00005: val_loss improved from 0.53885 to 0.41978, saving model to /home/aiffel0042/aiffel/speech_recognition/models/wav\n",
      "355/355 [==============================] - 130s 368ms/step - loss: 0.3622 - accuracy: 0.9018 - val_loss: 0.4198 - val_accuracy: 0.8658\n",
      "Epoch 6/10\n",
      "355/355 [==============================] - ETA: 0s - loss: 0.2727 - accuracy: 0.9318\n",
      "Epoch 00006: val_loss improved from 0.41978 to 0.41557, saving model to /home/aiffel0042/aiffel/speech_recognition/models/wav\n",
      "355/355 [==============================] - 131s 368ms/step - loss: 0.2727 - accuracy: 0.9318 - val_loss: 0.4156 - val_accuracy: 0.8642\n",
      "Epoch 7/10\n",
      "355/355 [==============================] - ETA: 0s - loss: 0.2146 - accuracy: 0.9503\n",
      "Epoch 00007: val_loss did not improve from 0.41557\n",
      "355/355 [==============================] - 130s 365ms/step - loss: 0.2146 - accuracy: 0.9503 - val_loss: 0.4336 - val_accuracy: 0.8588\n",
      "Epoch 8/10\n",
      "355/355 [==============================] - ETA: 0s - loss: 0.1672 - accuracy: 0.9640\n",
      "Epoch 00008: val_loss did not improve from 0.41557\n",
      "355/355 [==============================] - 130s 367ms/step - loss: 0.1672 - accuracy: 0.9640 - val_loss: 0.4608 - val_accuracy: 0.8476\n",
      "Epoch 9/10\n",
      "355/355 [==============================] - ETA: 0s - loss: 0.1275 - accuracy: 0.9746\n",
      "Epoch 00009: val_loss did not improve from 0.41557\n",
      "355/355 [==============================] - 130s 367ms/step - loss: 0.1275 - accuracy: 0.9746 - val_loss: 0.4685 - val_accuracy: 0.8746\n",
      "Epoch 10/10\n",
      "355/355 [==============================] - ETA: 0s - loss: 0.1072 - accuracy: 0.9782\n",
      "Epoch 00010: val_loss improved from 0.41557 to 0.40589, saving model to /home/aiffel0042/aiffel/speech_recognition/models/wav\n",
      "355/355 [==============================] - 132s 373ms/step - loss: 0.1072 - accuracy: 0.9782 - val_loss: 0.4059 - val_accuracy: 0.8684\n",
      "✅\n"
     ]
    }
   ],
   "source": [
    "#30분 내외 소요\n",
    "history_wav = model_wav.fit(train_dataset, epochs=max_epochs,\n",
    "                    steps_per_epoch=len(train_wav) // batch_size,\n",
    "                    validation_data=test_dataset,\n",
    "                    validation_steps=len(test_wav) // batch_size,\n",
    "                    callbacks=[cp_callback]\n",
    "                    )\n",
    "print(\"✅\")"
   ]
  },
  {
   "cell_type": "markdown",
   "metadata": {},
   "source": [
    "# 학습 결과 Plot\n",
    "- model.fit 함수는 학습 동안의 결과를 return해줍니다.\n",
    "- return 값을 기반으로 loss와 accuracy를 그래프로 표현하겠습니다.\n",
    "- fit 함수에서 전달 받은 Loss와 Accuracy의 값을 이용해 모델이 어떻게 학습되고 있는지 볼 수 있습니다.\n",
    "- train loss와 val_loss의 차이가 커지는 경우 오버피팅이 일어나는 것이기 때문에 이를 수정할 필요가 있습니다.\n",
    "\n",
    "- 출력된 그래프를 기반으로 모델의 학습이 어떻게 진행됐는지 확인해볼 수 있습니다."
   ]
  },
  {
   "cell_type": "code",
   "execution_count": 18,
   "metadata": {},
   "outputs": [
    {
     "data": {
      "image/png": "[encoded data removed]",
      "text/plain": [
       "<Figure size 576x576 with 2 Axes>"
      ]
     },
     "metadata": {
      "needs_background": "light"
     },
     "output_type": "display_data"
    },
    {
     "name": "stdout",
     "output_type": "stream",
     "text": [
      "✅\n"
     ]
    }
   ],
   "source": [
    "import matplotlib.pyplot as plt\n",
    "\n",
    "acc = history_wav.history['accuracy']\n",
    "val_acc = history_wav.history['val_accuracy']\n",
    "\n",
    "loss=history_wav.history['loss']\n",
    "val_loss=history_wav.history['val_loss']\n",
    "\n",
    "epochs_range = range(len(acc))\n",
    "\n",
    "plt.figure(figsize=(8, 8))\n",
    "plt.subplot(1, 2, 1)\n",
    "plt.plot(epochs_range, acc, label='Training Accuracy')\n",
    "plt.plot(epochs_range, val_acc, label='Validation Accuracy')\n",
    "plt.legend(loc='lower right')\n",
    "plt.title('Training and Validation Accuracy')\n",
    "\n",
    "plt.subplot(1, 2, 2)\n",
    "plt.plot(epochs_range, loss, label='Training Loss')\n",
    "plt.plot(epochs_range, val_loss, label='Validation Loss')\n",
    "plt.legend(loc='upper right')\n",
    "plt.title('Training and Validation Loss')\n",
    "plt.show()\n",
    "print(\"✅\")"
   ]
  },
  {
   "cell_type": "markdown",
   "metadata": {},
   "source": [
    "# Evaluation\n",
    "- Test dataset을 이용해서 모델의 성능을 평가합니다.\n",
    "\n",
    "- 실습삼아 checkpoint callback 함수가 저장한 weight를 다시 불러와서 테스트 준비를 해보겠습니다."
   ]
  },
  {
   "cell_type": "code",
   "execution_count": 19,
   "metadata": {},
   "outputs": [
    {
     "name": "stdout",
     "output_type": "stream",
     "text": [
      "✅\n"
     ]
    }
   ],
   "source": [
    "model_wav.load_weights(checkpoint_dir)\n",
    "print(\"✅\")"
   ]
  },
  {
   "cell_type": "markdown",
   "metadata": {},
   "source": [
    "- Test data을 이용하여 모델의 예측값과 실제값이 얼마나 일치하는지 확인하겠습니다."
   ]
  },
  {
   "cell_type": "code",
   "execution_count": 22,
   "metadata": {},
   "outputs": [
    {
     "name": "stdout",
     "output_type": "stream",
     "text": [
      "40/40 [==============================] - 25s 631ms/step - loss: 0.4061 - accuracy: 0.8690\n",
      "✅\n"
     ]
    }
   ],
   "source": [
    "results = model_wav.evaluate(test_dataset)\n",
    "print(\"✅\")"
   ]
  },
  {
   "cell_type": "code",
   "execution_count": 23,
   "metadata": {},
   "outputs": [
    {
     "name": "stdout",
     "output_type": "stream",
     "text": [
      "loss value: 0.406\n",
      "accuracy value: 86.9024%\n",
      "✅\n"
     ]
    }
   ],
   "source": [
    "# loss\n",
    "print(\"loss value: {:.3f}\".format(results[0]))\n",
    "# accuracy\n",
    "print(\"accuracy value: {:.4f}%\".format(results[1]*100))\n",
    "print(\"✅\")"
   ]
  },
  {
   "cell_type": "markdown",
   "metadata": {},
   "source": [
    "# Model Test\n",
    "- Test data 셋을 골라 직접 들어보고 모델의 예측이 맞는지 확인해보아요.\n",
    "\n"
   ]
  },
  {
   "cell_type": "code",
   "execution_count": 24,
   "metadata": {},
   "outputs": [
    {
     "name": "stdout",
     "output_type": "stream",
     "text": [
      "label :  off\n"
     ]
    },
    {
     "data": {
      "text/html": [
       "\n",
       "                <audio  controls=\"controls\" >\n",
       "                    <source src=\"data:audio/wav;base64,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\" type=\"audio/wav\" />\n",
       "                    Your browser does not support the audio element.\n",
       "                </audio>\n",
       "              "
      ],
      "text/plain": [
       "<IPython.lib.display.Audio object>"
      ]
     },
     "execution_count": 24,
     "metadata": {},
     "output_type": "execute_result"
    }
   ],
   "source": [
    "inv_label_value = {v: k for k, v in label_value.items()}\n",
    "batch_index = np.random.choice(len(test_wav), size=1, replace=False)\n",
    "\n",
    "batch_xs = test_wav[batch_index]\n",
    "batch_ys = test_label[batch_index]\n",
    "y_pred_ = model_wav(batch_xs, training=False)\n",
    "\n",
    "print(\"label : \", str(inv_label_value[batch_ys[0]]))\n",
    "\n",
    "ipd.Audio(batch_xs.reshape(8000,), rate=8000)"
   ]
  },
  {
   "cell_type": "code",
   "execution_count": 25,
   "metadata": {},
   "outputs": [
    {
     "name": "stdout",
     "output_type": "stream",
     "text": [
      "y_pred: off\n",
      "✅\n"
     ]
    }
   ],
   "source": [
    "if np.argmax(y_pred_) == test_label[i]:\n",
    "    print(\"y_pred: \" + str(inv_label_value[np.argmax(y_pred_)]))\n",
    "else:\n",
    "    print(\"y_pred: \" + str(inv_label_value[np.argmax(y_pred_)]))\n",
    "print(\"✅\")"
   ]
  },
  {
   "cell_type": "markdown",
   "metadata": {},
   "source": [
    "# Skip-Connection model을 추가해보자\n",
    "## Skip-Connection model 구현\n",
    "- 이전 스텝에서 우리는 Conv1D 기반의 간단한 분류 모델을 구현해서 학습 및 테스트를 진행해 보았습니다. 간단한 모델임에도 정확도가 나쁘지 않았을 것입니다.\n",
    "\n",
    "- 하지만 여러분들은 이미지처리 모델을 다루면서 ResNet 등 skip-connection을 활용한 모델들이 훨씬 안정적으로 높은 성능을 낼 수 있음을 배워왔을 것입니다. 그렇다면 이번 음성처리 모델에 적용해도 비슷한 개선 효과를 낼 수 있지 않을까요?\n",
    "\n",
    "- 기존의 모델을 skip-connection이 추가된 모델로 변경해 학습을 진행해보겠습니다.\n",
    "\n",
    "![titla](skip-connection.max-800x600.png)"
   ]
  },
  {
   "cell_type": "markdown",
   "metadata": {},
   "source": [
    "- 그림에서 보듯이 위쪽의 데이터가 레이어를 뛰어넘어 레이어를 통과한 값에 더해주는 형식으로 구현됨을 확인할 수 있습니다.\n",
    "- Concat을 이용한 방식으로 구현하면 됩니다.\n",
    "\n",
    "- tf.concat([#layer output tensor, layer output tensor#], axis=#)\n",
    "\n",
    "- 우리가 사용하는 데이터가 1차원 audio 데이터이기 때문에 1차원 데이터를 처리하는 모델을 구성해보겠습니다."
   ]
  },
  {
   "cell_type": "code",
   "execution_count": 26,
   "metadata": {},
   "outputs": [
    {
     "name": "stdout",
     "output_type": "stream",
     "text": [
      "Model: \"functional_3\"\n",
      "__________________________________________________________________________________________________\n",
      "Layer (type)                    Output Shape         Param #     Connected to                     \n",
      "==================================================================================================\n",
      "input_2 (InputLayer)            [(None, 8000, 1)]    0                                            \n",
      "__________________________________________________________________________________________________\n",
      "conv1d_10 (Conv1D)              (None, 8000, 32)     320         input_2[0][0]                    \n",
      "__________________________________________________________________________________________________\n",
      "conv1d_11 (Conv1D)              (None, 8000, 32)     9248        conv1d_10[0][0]                  \n",
      "__________________________________________________________________________________________________\n",
      "max_pooling1d_4 (MaxPooling1D)  (None, 4000, 32)     0           conv1d_11[0][0]                  \n",
      "__________________________________________________________________________________________________\n",
      "conv1d_12 (Conv1D)              (None, 4000, 64)     18496       max_pooling1d_4[0][0]            \n",
      "__________________________________________________________________________________________________\n",
      "conv1d_13 (Conv1D)              (None, 4000, 64)     36928       conv1d_12[0][0]                  \n",
      "__________________________________________________________________________________________________\n",
      "tf_op_layer_concat (TensorFlowO [(None, 4000, 96)]   0           conv1d_13[0][0]                  \n",
      "                                                                 max_pooling1d_4[0][0]            \n",
      "__________________________________________________________________________________________________\n",
      "max_pooling1d_5 (MaxPooling1D)  (None, 2000, 96)     0           tf_op_layer_concat[0][0]         \n",
      "__________________________________________________________________________________________________\n",
      "conv1d_14 (Conv1D)              (None, 2000, 128)    110720      max_pooling1d_5[0][0]            \n",
      "__________________________________________________________________________________________________\n",
      "conv1d_15 (Conv1D)              (None, 2000, 128)    147584      conv1d_14[0][0]                  \n",
      "__________________________________________________________________________________________________\n",
      "conv1d_16 (Conv1D)              (None, 2000, 128)    147584      conv1d_15[0][0]                  \n",
      "__________________________________________________________________________________________________\n",
      "tf_op_layer_concat_1 (TensorFlo [(None, 2000, 224)]  0           conv1d_16[0][0]                  \n",
      "                                                                 max_pooling1d_5[0][0]            \n",
      "__________________________________________________________________________________________________\n",
      "max_pooling1d_6 (MaxPooling1D)  (None, 1000, 224)    0           tf_op_layer_concat_1[0][0]       \n",
      "__________________________________________________________________________________________________\n",
      "conv1d_17 (Conv1D)              (None, 1000, 256)    516352      max_pooling1d_6[0][0]            \n",
      "__________________________________________________________________________________________________\n",
      "conv1d_18 (Conv1D)              (None, 1000, 256)    590080      conv1d_17[0][0]                  \n",
      "__________________________________________________________________________________________________\n",
      "conv1d_19 (Conv1D)              (None, 1000, 256)    590080      conv1d_18[0][0]                  \n",
      "__________________________________________________________________________________________________\n",
      "tf_op_layer_concat_2 (TensorFlo [(None, 1000, 480)]  0           conv1d_19[0][0]                  \n",
      "                                                                 max_pooling1d_6[0][0]            \n",
      "__________________________________________________________________________________________________\n",
      "max_pooling1d_7 (MaxPooling1D)  (None, 500, 480)     0           tf_op_layer_concat_2[0][0]       \n",
      "__________________________________________________________________________________________________\n",
      "dropout_1 (Dropout)             (None, 500, 480)     0           max_pooling1d_7[0][0]            \n",
      "__________________________________________________________________________________________________\n",
      "flatten_1 (Flatten)             (None, 240000)       0           dropout_1[0][0]                  \n",
      "__________________________________________________________________________________________________\n",
      "dense_2 (Dense)                 (None, 256)          61440256    flatten_1[0][0]                  \n",
      "__________________________________________________________________________________________________\n",
      "batch_normalization_1 (BatchNor (None, 256)          1024        dense_2[0][0]                    \n",
      "__________________________________________________________________________________________________\n",
      "activation_1 (Activation)       (None, 256)          0           batch_normalization_1[0][0]      \n",
      "__________________________________________________________________________________________________\n",
      "dense_3 (Dense)                 (None, 12)           3084        activation_1[0][0]               \n",
      "==================================================================================================\n",
      "Total params: 63,611,756\n",
      "Trainable params: 63,611,244\n",
      "Non-trainable params: 512\n",
      "__________________________________________________________________________________________________\n"
     ]
    }
   ],
   "source": [
    "input_tensor = layers.Input(shape=(sr, 1))\n",
    "\n",
    "x = layers.Conv1D(32, 9, padding='same', activation='relu')(input_tensor)\n",
    "x = layers.Conv1D(32, 9, padding='same', activation='relu')(x)\n",
    "skip_1 = layers.MaxPool1D()(x)\n",
    "\n",
    "x = layers.Conv1D(64, 9, padding='same', activation='relu')(skip_1)\n",
    "x = layers.Conv1D(64, 9, padding='same', activation='relu')(x)\n",
    "x = tf.concat([x, skip_1], -1)\n",
    "skip_2 = layers.MaxPool1D()(x)\n",
    "\n",
    "x = layers.Conv1D(128, 9, padding='same', activation='relu')(skip_2)\n",
    "x = layers.Conv1D(128, 9, padding='same', activation='relu')(x)\n",
    "x = layers.Conv1D(128, 9, padding='same', activation='relu')(x)\n",
    "x = tf.concat([x, skip_2], -1)\n",
    "skip_3 = layers.MaxPool1D()(x)\n",
    "\n",
    "x = layers.Conv1D(256, 9, padding='same', activation='relu')(skip_3)\n",
    "x = layers.Conv1D(256, 9, padding='same', activation='relu')(x)\n",
    "x = layers.Conv1D(256, 9, padding='same', activation='relu')(x)\n",
    "x = tf.concat([x, skip_3], -1)\n",
    "x = layers.MaxPool1D()(x)\n",
    "x = layers.Dropout(0.3)(x)\n",
    "\n",
    "x = layers.Flatten()(x)\n",
    "x = layers.Dense(256)(x)\n",
    "x = layers.BatchNormalization()(x)\n",
    "x = layers.Activation('relu')(x)\n",
    "\n",
    "output_tensor = layers.Dense(12)(x)\n",
    "\n",
    "model_wav_skip = tf.keras.Model(input_tensor, output_tensor)\n",
    "\n",
    "model_wav_skip.summary()"
   ]
  },
  {
   "cell_type": "code",
   "execution_count": null,
   "metadata": {},
   "outputs": [],
   "source": [
    "tf.keras.utils.plot_model(model_wav, './Wav_New.png', show_shapes=True)"
   ]
  },
  {
   "cell_type": "markdown",
   "metadata": {},
   "source": [
    "- 모델 구성만 달라졌을 뿐, 그 외 Task구성이나 데이터셋 구성, 훈련 과정은 동일합니다."
   ]
  },
  {
   "cell_type": "code",
   "execution_count": 27,
   "metadata": {},
   "outputs": [
    {
     "name": "stdout",
     "output_type": "stream",
     "text": [
      "✅\n"
     ]
    }
   ],
   "source": [
    "optimizer=tf.keras.optimizers.Adam(1e-4)\n",
    "model_wav_skip.compile(loss=tf.keras.losses.CategoricalCrossentropy(from_logits=True),\n",
    "             optimizer=optimizer,\n",
    "             metrics=['accuracy'])\n",
    "print(\"✅\")"
   ]
  },
  {
   "cell_type": "code",
   "execution_count": 28,
   "metadata": {},
   "outputs": [
    {
     "name": "stdout",
     "output_type": "stream",
     "text": [
      "✅\n"
     ]
    }
   ],
   "source": [
    "# the save point\n",
    "checkpoint_dir = os.getenv('HOME')+'/aiffel/speech_recognition/models/wav_skip'\n",
    "\n",
    "cp_callback = tf.keras.callbacks.ModelCheckpoint(checkpoint_dir,\n",
    "                                                 save_weights_only=True,\n",
    "                                                 monitor='val_loss',\n",
    "                                                 mode='auto',\n",
    "                                                 save_best_only=True,\n",
    "                                                 verbose=1)\n",
    "print(\"✅\")"
   ]
  },
  {
   "cell_type": "code",
   "execution_count": 29,
   "metadata": {},
   "outputs": [
    {
     "name": "stdout",
     "output_type": "stream",
     "text": [
      "Epoch 1/10\n",
      "  2/355 [..............................] - ETA: 6:24 - loss: 2.7183 - accuracy: 0.0820WARNING:tensorflow:Callbacks method `on_train_batch_end` is slow compared to the batch time (batch time: 0.6882s vs `on_train_batch_end` time: 1.1784s). Check your callbacks.\n",
      "355/355 [==============================] - ETA: 0s - loss: 1.3477 - accuracy: 0.5667\n",
      "Epoch 00001: val_loss improved from inf to 1.25778, saving model to /home/aiffel0042/aiffel/speech_recognition/models/wav_skip\n",
      "355/355 [==============================] - 792s 2s/step - loss: 1.3477 - accuracy: 0.5667 - val_loss: 1.2578 - val_accuracy: 0.6679\n",
      "Epoch 2/10\n",
      "355/355 [==============================] - ETA: 0s - loss: 0.7471 - accuracy: 0.7821\n",
      "Epoch 00002: val_loss improved from 1.25778 to 0.86135, saving model to /home/aiffel0042/aiffel/speech_recognition/models/wav_skip\n",
      "355/355 [==============================] - 751s 2s/step - loss: 0.7471 - accuracy: 0.7821 - val_loss: 0.8613 - val_accuracy: 0.7312\n",
      "Epoch 3/10\n",
      "355/355 [==============================] - ETA: 0s - loss: 0.5268 - accuracy: 0.8586\n",
      "Epoch 00003: val_loss improved from 0.86135 to 0.54943, saving model to /home/aiffel0042/aiffel/speech_recognition/models/wav_skip\n",
      "355/355 [==============================] - 248s 699ms/step - loss: 0.5268 - accuracy: 0.8586 - val_loss: 0.5494 - val_accuracy: 0.8371\n",
      "Epoch 4/10\n",
      "355/355 [==============================] - ETA: 0s - loss: 0.3590 - accuracy: 0.9122\n",
      "Epoch 00004: val_loss improved from 0.54943 to 0.43406, saving model to /home/aiffel0042/aiffel/speech_recognition/models/wav_skip\n",
      "355/355 [==============================] - 161s 454ms/step - loss: 0.3590 - accuracy: 0.9122 - val_loss: 0.4341 - val_accuracy: 0.8714\n",
      "Epoch 5/10\n",
      "355/355 [==============================] - ETA: 0s - loss: 0.2449 - accuracy: 0.9461\n",
      "Epoch 00005: val_loss did not improve from 0.43406\n",
      "355/355 [==============================] - 156s 439ms/step - loss: 0.2449 - accuracy: 0.9461 - val_loss: 0.4604 - val_accuracy: 0.8740\n",
      "Epoch 6/10\n",
      "355/355 [==============================] - ETA: 0s - loss: 0.1691 - accuracy: 0.9662\n",
      "Epoch 00006: val_loss improved from 0.43406 to 0.34707, saving model to /home/aiffel0042/aiffel/speech_recognition/models/wav_skip\n",
      "355/355 [==============================] - 166s 468ms/step - loss: 0.1691 - accuracy: 0.9662 - val_loss: 0.3471 - val_accuracy: 0.8964\n",
      "Epoch 7/10\n",
      "355/355 [==============================] - ETA: 0s - loss: 0.1197 - accuracy: 0.9773\n",
      "Epoch 00007: val_loss improved from 0.34707 to 0.31250, saving model to /home/aiffel0042/aiffel/speech_recognition/models/wav_skip\n",
      "355/355 [==============================] - 157s 444ms/step - loss: 0.1197 - accuracy: 0.9773 - val_loss: 0.3125 - val_accuracy: 0.9095\n",
      "Epoch 8/10\n",
      "355/355 [==============================] - ETA: 0s - loss: 0.0867 - accuracy: 0.9837\n",
      "Epoch 00008: val_loss improved from 0.31250 to 0.29796, saving model to /home/aiffel0042/aiffel/speech_recognition/models/wav_skip\n",
      "355/355 [==============================] - 160s 450ms/step - loss: 0.0867 - accuracy: 0.9837 - val_loss: 0.2980 - val_accuracy: 0.9157\n",
      "Epoch 9/10\n",
      "355/355 [==============================] - ETA: 0s - loss: 0.0670 - accuracy: 0.9874\n",
      "Epoch 00009: val_loss did not improve from 0.29796\n",
      "355/355 [==============================] - 156s 438ms/step - loss: 0.0670 - accuracy: 0.9874 - val_loss: 0.3038 - val_accuracy: 0.9155\n",
      "Epoch 10/10\n",
      "355/355 [==============================] - ETA: 0s - loss: 0.0529 - accuracy: 0.9898\n",
      "Epoch 00010: val_loss did not improve from 0.29796\n",
      "355/355 [==============================] - 156s 440ms/step - loss: 0.0529 - accuracy: 0.9898 - val_loss: 0.3353 - val_accuracy: 0.9042\n",
      "✅\n"
     ]
    }
   ],
   "source": [
    "#30분 내외 소요\n",
    "history_wav_skip = model_wav_skip.fit(train_dataset, epochs=max_epochs,\n",
    "                    steps_per_epoch=len(train_wav) // batch_size,\n",
    "                    validation_data=test_dataset,\n",
    "                    validation_steps=len(test_wav) // batch_size,\n",
    "                    callbacks=[cp_callback]\n",
    "                    )\n",
    "print(\"✅\")"
   ]
  },
  {
   "cell_type": "markdown",
   "metadata": {},
   "source": [
    "- 학습결과의 시각화 및 evaluation 과정도 동일합니다."
   ]
  },
  {
   "cell_type": "code",
   "execution_count": 30,
   "metadata": {},
   "outputs": [
    {
     "data": {
      "image/png": "[encoded data removed]",
      "text/plain": [
       "<Figure size 576x576 with 2 Axes>"
      ]
     },
     "metadata": {
      "needs_background": "light"
     },
     "output_type": "display_data"
    },
    {
     "name": "stdout",
     "output_type": "stream",
     "text": [
      "✅\n"
     ]
    }
   ],
   "source": [
    "import matplotlib.pyplot as plt\n",
    "\n",
    "acc = history_wav_skip.history['accuracy']\n",
    "val_acc = history_wav_skip.history['val_accuracy']\n",
    "\n",
    "loss=history_wav_skip.history['loss']\n",
    "val_loss=history_wav_skip.history['val_loss']\n",
    "\n",
    "epochs_range = range(len(acc))\n",
    "\n",
    "plt.figure(figsize=(8, 8))\n",
    "plt.subplot(1, 2, 1)\n",
    "plt.plot(epochs_range, acc, label='Training Accuracy')\n",
    "plt.plot(epochs_range, val_acc, label='Validation Accuracy')\n",
    "plt.legend(loc='lower right')\n",
    "plt.title('Training and Validation Accuracy')\n",
    "\n",
    "plt.subplot(1, 2, 2)\n",
    "plt.plot(epochs_range, loss, label='Training Loss')\n",
    "plt.plot(epochs_range, val_loss, label='Validation Loss')\n",
    "plt.legend(loc='upper right')\n",
    "plt.title('Training and Validation Loss')\n",
    "plt.show()\n",
    "print(\"✅\")"
   ]
  },
  {
   "cell_type": "code",
   "execution_count": 31,
   "metadata": {},
   "outputs": [
    {
     "name": "stdout",
     "output_type": "stream",
     "text": [
      "40/40 [==============================] - 6s 138ms/step - loss: 0.2985 - accuracy: 0.9158\n",
      "loss value: 0.299\n",
      "accuracy value: 91.5844%\n",
      "✅\n"
     ]
    }
   ],
   "source": [
    "# Evaluation \n",
    "\n",
    "model_wav_skip.load_weights(checkpoint_dir)\n",
    "results = model_wav_skip.evaluate(test_dataset)\n",
    "\n",
    "# loss\n",
    "print(\"loss value: {:.3f}\".format(results[0]))\n",
    "# accuracy\n",
    "print(\"accuracy value: {:.4f}%\".format(results[1]*100))\n",
    "print(\"✅\")"
   ]
  },
  {
   "cell_type": "code",
   "execution_count": 32,
   "metadata": {},
   "outputs": [
    {
     "name": "stdout",
     "output_type": "stream",
     "text": [
      "label :  on\n"
     ]
    },
    {
     "data": {
      "text/html": [
       "\n",
       "                <audio  controls=\"controls\" >\n",
       "                    <source src=\"data:audio/wav;base64,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\" type=\"audio/wav\" />\n",
       "                    Your browser does not support the audio element.\n",
       "                </audio>\n",
       "              "
      ],
      "text/plain": [
       "<IPython.lib.display.Audio object>"
      ]
     },
     "execution_count": 32,
     "metadata": {},
     "output_type": "execute_result"
    }
   ],
   "source": [
    "# Test \n",
    "\n",
    "inv_label_value = {v: k for k, v in label_value.items()}\n",
    "batch_index = np.random.choice(len(test_wav), size=1, replace=False)\n",
    "\n",
    "batch_xs = test_wav[batch_index]\n",
    "batch_ys = test_label[batch_index]\n",
    "y_pred_ = model_wav_skip(batch_xs, training=False)\n",
    "\n",
    "print(\"label : \", str(inv_label_value[batch_ys[0]]))\n",
    "\n",
    "ipd.Audio(batch_xs.reshape(8000,), rate=8000)"
   ]
  },
  {
   "cell_type": "code",
   "execution_count": 33,
   "metadata": {},
   "outputs": [
    {
     "name": "stdout",
     "output_type": "stream",
     "text": [
      "y_pred: on\n",
      "✅\n"
     ]
    }
   ],
   "source": [
    "if np.argmax(y_pred_) == test_label[i]:\n",
    "    print(\"y_pred: \" + str(inv_label_value[np.argmax(y_pred_)]))\n",
    "else:\n",
    "    print(\"y_pred: \" + str(inv_label_value[np.argmax(y_pred_)]))\n",
    "print(\"✅\")"
   ]
  },
  {
   "cell_type": "markdown",
   "metadata": {},
   "source": [
    "# Spectrogram\n",
    "우리는 지금까지 음성 데이터를 1차원 시계열 데이터로 해석하는 waveform 해석을 통해 다루어 왔습니다.\n",
    "\n",
    "그러나 우리가 다루는 waveform은 실은 많은 음원의 파형이 합성된 복합파라는 것을 앞서 언급했습니다. 그렇다면 보다 뚜렷이 다양한 파형들을 그 주파수 대역별로 나누어 별도로 해석해볼 수 있는 방법은 없을까요? 이제 우리가 자주 들었던 푸리에 변환(Fourier transform)을 언급할 때가 된 것 같습니다.\n",
    "\n",
    "## 푸리에변환 (Fourier transform)\n",
    "임의의 입력 신호를 다양한 주파수를 갖는 주기함수 (복수 지수함수)들이 합으로 분해하여 표현하는 것을 말합니다. 수식으로 말하면 아래와 같습니다."
   ]
  },
  {
   "cell_type": "markdown",
   "metadata": {},
   "source": [
    "## 조금 더 깊이 들어가는 푸리에 변환\n",
    "조금만 더 이론적으로 들어가 봅시다. 아래 내용은 꼭 이해하지 못해도 좋습니다.\n",
    "\n",
    "## 오일러 공식 (지수함수와 주기함수와의 관계)"
   ]
  },
  {
   "cell_type": "markdown",
   "metadata": {},
   "source": [
    "## STFT(Short Time Fourier Transform)\n",
    "- FFT는 시간에 흐름에 따라 신호의 주파수가 변했을 때, 어느 시간대에 주파수가 변하는지 모르게 됩니다. 이러한 한계를 극복하기 위해서, STFT는 시간의 길이를 나눠서 퓨리에 변환을 하게 됩니다."
   ]
  },
  {
   "cell_type": "markdown",
   "metadata": {},
   "source": [
    "## Spectrogram이란?\n",
    "- wav 데이터를 해석하는 방법 중 하나로, 일정 시간동안 wav 데이터 안의 다양한 주파수들이 얼마나 포함되어 있는 지를 보여줍니다.\n",
    "- 이 Spectrogram을 그리는 방법이 바로 위에 소개한 STFT 입니다."
   ]
  },
  {
   "cell_type": "code",
   "execution_count": 34,
   "metadata": {},
   "outputs": [
    {
     "name": "stdout",
     "output_type": "stream",
     "text": [
      "✅\n"
     ]
    }
   ],
   "source": [
    "import librosa\n",
    "\n",
    "def wav2spec(wav, fft_size=258): # spectrogram shape을 맞추기위해서 size 변형\n",
    "    D = np.abs(librosa.stft(wav, n_fft=fft_size))\n",
    "    return D\n",
    "print(\"✅\")"
   ]
  },
  {
   "cell_type": "code",
   "execution_count": 35,
   "metadata": {},
   "outputs": [
    {
     "name": "stdout",
     "output_type": "stream",
     "text": [
      "Waveform shape :  (8000,)\n",
      "Spectrogram shape :  (130, 126)\n"
     ]
    }
   ],
   "source": [
    "# 위에서 뽑았던 sample data\n",
    "spec = wav2spec(data)\n",
    "print(\"Waveform shape : \",data.shape)\n",
    "print(\"Spectrogram shape : \",spec.shape)"
   ]
  },
  {
   "cell_type": "markdown",
   "metadata": {},
   "source": [
    "- 어떻습니까? 1차원의 Waveform 데이터가 2차원의 Spectrogram 데이터로 변환되었습니다.\n",
    "\n",
    "- 그렇다면 방금 변환된 Spectrogram을 출력해보겠습니다.\n",
    "\n",
    "- 만약에, 우리가 Waveform 데이터 대신 이 Spectrogram 포맷으로 모든 음성 데이터를 변환한 후 음성인식 모델을 학습시킨다면, 과연 Waveform과 비교했을 때 더 나은 성능을 기대할 수 있을까요?"
   ]
  },
  {
   "cell_type": "code",
   "execution_count": 36,
   "metadata": {},
   "outputs": [
    {
     "data": {
      "image/png": "[encoded data removed]",
      "text/plain": [
       "<Figure size 432x288 with 2 Axes>"
      ]
     },
     "metadata": {
      "needs_background": "light"
     },
     "output_type": "display_data"
    }
   ],
   "source": [
    "import librosa.display\n",
    "\n",
    "librosa.display.specshow(librosa.amplitude_to_db(spec, ref=np.max), x_axis='time')\n",
    "plt.title('Power spectrogram')\n",
    "plt.colorbar(format='%+2.0f dB')\n",
    "plt.xticks(range(0, 1))\n",
    "plt.tight_layout()\n",
    "plt.show()"
   ]
  },
  {
   "cell_type": "markdown",
   "metadata": {},
   "source": [
    "# 프로젝트: Spectrogram classification 모델 구현\n",
    "- 그래서 오늘은 방금 든 궁금증을 해결해 보는 것으로 프로젝트를 진행해 봅니다.\n",
    "\n",
    "- 오늘 실습에서 1차원 Waveform 데이터를 입력받아 Text 라벨을 출력하는 모델을 기본 버전과 Skip-connection 버전으로 나누어 학습시켜 보았습니다. 이번에는 2차원 Spectrogram 데이터를 입력받아 위 모델과 동일한 역할을 수행하는 모델을 아래 제시된 단계와 같이 수행해 보시기 바랍니다. 이번에도 마찬가지로 기본 버전과 Skip-connection 버전으로 나누어 각각 진행해 보시기 바랍니다.\n",
    "- 모델 구조를 제외하고는 실습에서 제시된 것과 거의 동일하게 진행될 것입니다."
   ]
  },
  {
   "cell_type": "markdown",
   "metadata": {},
   "source": [
    "# 1. 데이터 처리와 분류\n",
    "\n",
    "- 라벨 데이터 처리하기\n",
    "- sklearn의 rain_test_split함수를 이용하여 train, test 분리\n",
    "\n",
    "# 2. 학습을 위한 하이퍼파라미터 설정\n",
    "\n",
    "# 3. 데이터셋 구성\n",
    "\n",
    "- tf.data.Dataset을 이용\n",
    "- from_tensor_slices 함수에 return 받길 원하는 데이터를 튜플 (data, label) 형태로 넣어서 사용\n",
    "- map과 batch를 이용한 데이터 전처리\n",
    "\n",
    "# 4. 2차원 Spectrogram 데이터를 처리하는 모델 구성\n",
    "\n",
    "- Conv2D layer, batchnorm, dropout, dense layer 등을 이용\n",
    "- 12개의 단어 class를 구분하는 loss를 사용하고 Adam optimizer를 사용\n",
    "- 모델 가중치를 저장하는 checkpoint callback 함수 추가\n",
    "\n",
    "# 5. 학습 후, 학습이 어떻게 진행됐는지 그래프로 출력\n",
    "\n",
    "- loss, accuracy를 그래프로 표현\n",
    "\n",
    "# 6. Test dataset을 이용해서 모델의 성능을 평가\n",
    "\n",
    "- 저장한 weight 불러오기\n",
    "- 모델의 예측값과 정답값이 얼마나 일치하는지 확인"
   ]
  },
  {
   "cell_type": "code",
   "execution_count": null,
   "metadata": {},
   "outputs": [],
   "source": []
  },
  {
   "cell_type": "code",
   "execution_count": null,
   "metadata": {},
   "outputs": [],
   "source": []
  },
  {
   "cell_type": "code",
   "execution_count": null,
   "metadata": {},
   "outputs": [],
   "source": []
  },
  {
   "cell_type": "code",
   "execution_count": null,
   "metadata": {},
   "outputs": [],
   "source": []
  }
 ],
 "metadata": {
  "kernelspec": {
   "display_name": "aiffel",
   "language": "python",
   "name": "aiffel"
  },
  "language_info": {
   "codemirror_mode": {
    "name": "ipython",
    "version": 3
   },
   "file_extension": ".py",
   "mimetype": "text/x-python",
   "name": "python",
   "nbconvert_exporter": "python",
   "pygments_lexer": "ipython3",
   "version": "3.7.6"
  }
 },
 "nbformat": 4,
 "nbformat_minor": 4
}
